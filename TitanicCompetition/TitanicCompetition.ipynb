{
 "cells": [
  {
   "cell_type": "markdown",
   "id": "8609feed",
   "metadata": {},
   "source": [
    "# Titanic competition"
   ]
  },
  {
   "cell_type": "markdown",
   "id": "802613ef",
   "metadata": {},
   "source": [
    "<a id=\"table_of_contents\"></a>\n",
    "## Table of contents"
   ]
  },
  {
   "cell_type": "markdown",
   "id": "4fa52b11",
   "metadata": {},
   "source": [
    "* [Titanic competition](#)\n",
    "    * [Project overview](#project_overview)\n",
    "        * [ ] [Short story](#)\n",
    "        * [ ] [Goal](#)\n",
    "        * [x] [Data description](#)\n",
    "    * [Introduce with data](#introduce)\n",
    "        * [x] [Import libs](#import_libs)\n",
    "        * [x] [Import data and first impression](#import_data)\n",
    "        * [ ] [Brief conclusions](#brief_conclusions)\n",
    "    * [Data analysis](#data_analysis)\n",
    "        * [x] [Duplicates](#duplicates)\n",
    "        * [x] [Data visualisation](#data_visualisation)\n",
    "            * [x] [Target feature](#target_feature)\n",
    "            * [x] [Categorial features](#categorial_features)\n",
    "            * [x] [Numerical features](#numerical_features)\n",
    "        * [ ] [Data preparation](#data_preparation)\n",
    "            * [ ] [Fill NA](#fill_na)\n",
    "            * [ ] [New features](#new_features)\n",
    "        * [ ] [Multicolleniar](#multicolleniar)\n",
    "        * [ ] [Conclusions](#conclusions)   \n",
    "    * [Models](#models)\n",
    "        * [ ] [Features and target](#)\n",
    "        * [ ] [Logistic Regression](#lr)\n",
    "        * [ ] [Random Forest](#rf)\n",
    "        * [ ] [Boosting](#)\n",
    "        * [ ] [Result](#)\n",
    "    * [Test](#)\n",
    "        * [ ] [Test data preparetion](#tets_data_preparetion)\n",
    "        * [ ] [Forecasting](#forecasting)\n",
    "        * [ ] [Brief conclusions](#brief_conclusions_2)\n",
    "    * [Resume](#resume)\n",
    "        "
   ]
  },
  {
   "cell_type": "markdown",
   "id": "cd7a5a0e",
   "metadata": {},
   "source": [
    "<a id=\"project_overview\"></a>\n",
    "## Project overview"
   ]
  },
  {
   "cell_type": "markdown",
   "id": "fdb190d7",
   "metadata": {},
   "source": [
    "The competition is simple: use machine learning to create a model that predicts which passengers survived the Titanic shipwreck."
   ]
  },
  {
   "cell_type": "markdown",
   "id": "db7821c7",
   "metadata": {},
   "source": [
    "[to the table of contents](#table_of_contents)\n",
    "<a id=\"short_story\"></a>"
   ]
  },
  {
   "cell_type": "markdown",
   "id": "1ce7ff66",
   "metadata": {},
   "source": [
    "### Short story"
   ]
  },
  {
   "cell_type": "markdown",
   "id": "103185e0",
   "metadata": {},
   "source": []
  },
  {
   "cell_type": "markdown",
   "id": "5cf5aac0",
   "metadata": {},
   "source": [
    "[to the table of contents](#table_of_contents)\n",
    "<a id=\"goal\"></a>"
   ]
  },
  {
   "cell_type": "markdown",
   "id": "e29fc86f",
   "metadata": {},
   "source": [
    "### Goal"
   ]
  },
  {
   "cell_type": "markdown",
   "id": "6aaf6af0",
   "metadata": {},
   "source": []
  },
  {
   "cell_type": "markdown",
   "id": "83f02420",
   "metadata": {},
   "source": [
    "[to the table of contents](#table_of_contents)\n",
    "<a id=\"data_description\"></a>"
   ]
  },
  {
   "cell_type": "markdown",
   "id": "5c02b00d",
   "metadata": {},
   "source": [
    "### Data description"
   ]
  },
  {
   "cell_type": "markdown",
   "id": "48bd0c61",
   "metadata": {},
   "source": [
    "#### Variables\n",
    "\n",
    "\n",
    "|# | Variable | Definition | Key |\n",
    "|:-|:---------|:-----------|:----|\t\t\n",
    "|1 | survival |\tSurvival   | 0 = No, 1 = Yes |\n",
    "|2 | pclass |\tTicket class |\t1 = 1st, 2 = 2nd, 3 = 3rd |\n",
    "|3 | sex |\tSex | |\t\n",
    "|4 | Age |\tAge in years | | \t\n",
    "|5 | sibsp | # of siblings / spouses aboard the Titanic | |\n",
    "|6 | parch | # of parents / children aboard the Titanic | | \t\n",
    "|7 | ticket | Ticket number | |\n",
    "|8 | fare | Passenger fare | |\n",
    "|9 | cabin | Cabin number | |\n",
    "|10 | embarked | Port of Embarkation | C = Cherbourg, Q = Queenstown, S = Southampton |\n"
   ]
  },
  {
   "cell_type": "markdown",
   "id": "10208e2a",
   "metadata": {},
   "source": [
    "#### Variable Notes\n",
    "\n",
    "- pclass: A proxy for socio-economic status (SES)\n",
    "        \n",
    "        1st = Upper\n",
    "        2nd = Middle\n",
    "        3rd = Lower\n",
    "\n",
    "- age: Age is fractional if less than 1. If the age is estimated, is it in the form of xx.5\n",
    "\n",
    "\n",
    "\n",
    "- sibsp: The dataset defines family relations in this way...\n",
    "\n",
    "        Sibling = brother, sister, stepbrother, stepsister\n",
    "        Spouse = husband, wife (mistresses and fiancés were ignored)\n",
    "\n",
    "- parch: The dataset defines family relations in this way...\n",
    "        \n",
    "        Parent = mother, father\n",
    "        Child = daughter, son, stepdaughter, stepson\n",
    "        Some children travelled only with a nanny, therefore parch=0 for them."
   ]
  },
  {
   "cell_type": "markdown",
   "id": "8eb6ec8d",
   "metadata": {},
   "source": [
    "[to the table of contents](#table_of_contents)\n",
    "<a id=\"introduce\"></a>"
   ]
  },
  {
   "cell_type": "markdown",
   "id": "05aacbc0",
   "metadata": {},
   "source": [
    "## Introduce with data"
   ]
  },
  {
   "cell_type": "markdown",
   "id": "2866161a",
   "metadata": {},
   "source": [
    "[to the table of contents](#table_of_contents)\n",
    "<a id=\"import_libs\"></a>"
   ]
  },
  {
   "cell_type": "markdown",
   "id": "54bad16c",
   "metadata": {},
   "source": [
    "### Import libs"
   ]
  },
  {
   "cell_type": "code",
   "execution_count": 1,
   "id": "09dfc600",
   "metadata": {},
   "outputs": [],
   "source": [
    "# This Python 3 environment comes with many helpful analytics libraries installed\n",
    "# It is defined by the kaggle/python Docker image: https://github.com/kaggle/docker-python\n",
    "# For example, here's several helpful packages to load\n",
    "import os\n",
    "import numpy as np # linear algebra\n",
    "import pandas as pd # data processing, CSV file I/O (e.g. pd.read_csv)\n",
    "\n",
    "from numpy.random import RandomState\n",
    "\n",
    "from phik import phik_matrix\n",
    "from phik.report import plot_correlation_matrix\n",
    "\n",
    "import matplotlib.pyplot as plt\n",
    "import seaborn as sns\n",
    "\n",
    "# from catboost import CatBoostClassifier\n",
    "from sklearn.linear_model import LogisticRegression\n",
    "\n",
    "from sklearn.pipeline import Pipeline\n",
    "from sklearn.compose import ColumnTransformer\n",
    "from sklearn.preprocessing import OneHotEncoder\n",
    "from sklearn.preprocessing import StandardScaler\n",
    "# from sklearn.preprocessing import OrdinalEncoder\n",
    "\n",
    "from sklearn.model_selection import train_test_split\n",
    "from sklearn.model_selection import cross_val_score\n",
    "from sklearn.model_selection import GridSearchCV\n",
    "\n",
    "from sklearn.metrics import roc_curve \n",
    "from sklearn.metrics import roc_auc_score\n",
    "from sklearn.metrics import confusion_matrix\n",
    "\n",
    "# Input data files are available in the read-only \"../input/\" directory\n",
    "# For example, running this (by clicking run or pressing Shift+Enter) will list all files under the input directory\n",
    "# You can write up to 20GB to the current directory (/kaggle/working/) that gets preserved as output when you create a version using \"Save & Run All\" \n",
    "# You can also write temporary files to /kaggle/temp/, but they won't be saved outside of the current session"
   ]
  },
  {
   "cell_type": "markdown",
   "id": "11e640b4",
   "metadata": {},
   "source": [
    "[to the table of contents](#table_of_contents)\n",
    "<a id=\"import_data\"></a>"
   ]
  },
  {
   "cell_type": "markdown",
   "id": "f04c4b12",
   "metadata": {},
   "source": [
    "### Import data and first impression"
   ]
  },
  {
   "cell_type": "code",
   "execution_count": 2,
   "id": "65849363",
   "metadata": {
    "scrolled": false
   },
   "outputs": [
    {
     "name": "stdout",
     "output_type": "stream",
     "text": [
      "../datasets/titanic/test.csv\n",
      "../datasets/titanic/train.csv\n",
      "../datasets/titanic/gender_submission.csv\n"
     ]
    }
   ],
   "source": [
    "# let's check which files do we have\n",
    "datasets_dir = '../datasets/titanic'\n",
    "\n",
    "if not os.path.isdir(datasets_dir):\n",
    "    datasets_dir = '/kaggle/input'\n",
    "    \n",
    "for dirname, _, filenames in os.walk(datasets_dir):\n",
    "    for filename in filenames:\n",
    "        print(os.path.join(dirname, filename))"
   ]
  },
  {
   "cell_type": "markdown",
   "id": "ef85be19",
   "metadata": {},
   "source": [
    "#### Train dataset"
   ]
  },
  {
   "cell_type": "code",
   "execution_count": 3,
   "id": "31f0261c",
   "metadata": {},
   "outputs": [
    {
     "name": "stdout",
     "output_type": "stream",
     "text": [
      "Shape of the train dataset: (891, 12)\n",
      "\n",
      "First five rows of the train dataset:\n"
     ]
    },
    {
     "data": {
      "text/html": [
       "<div>\n",
       "<style scoped>\n",
       "    .dataframe tbody tr th:only-of-type {\n",
       "        vertical-align: middle;\n",
       "    }\n",
       "\n",
       "    .dataframe tbody tr th {\n",
       "        vertical-align: top;\n",
       "    }\n",
       "\n",
       "    .dataframe thead th {\n",
       "        text-align: right;\n",
       "    }\n",
       "</style>\n",
       "<table border=\"1\" class=\"dataframe\">\n",
       "  <thead>\n",
       "    <tr style=\"text-align: right;\">\n",
       "      <th></th>\n",
       "      <th>PassengerId</th>\n",
       "      <th>Survived</th>\n",
       "      <th>Pclass</th>\n",
       "      <th>Name</th>\n",
       "      <th>Sex</th>\n",
       "      <th>Age</th>\n",
       "      <th>SibSp</th>\n",
       "      <th>Parch</th>\n",
       "      <th>Ticket</th>\n",
       "      <th>Fare</th>\n",
       "      <th>Cabin</th>\n",
       "      <th>Embarked</th>\n",
       "    </tr>\n",
       "  </thead>\n",
       "  <tbody>\n",
       "    <tr>\n",
       "      <th>0</th>\n",
       "      <td>1</td>\n",
       "      <td>0</td>\n",
       "      <td>3</td>\n",
       "      <td>Braund, Mr. Owen Harris</td>\n",
       "      <td>male</td>\n",
       "      <td>22.0</td>\n",
       "      <td>1</td>\n",
       "      <td>0</td>\n",
       "      <td>A/5 21171</td>\n",
       "      <td>7.2500</td>\n",
       "      <td>NaN</td>\n",
       "      <td>S</td>\n",
       "    </tr>\n",
       "    <tr>\n",
       "      <th>1</th>\n",
       "      <td>2</td>\n",
       "      <td>1</td>\n",
       "      <td>1</td>\n",
       "      <td>Cumings, Mrs. John Bradley (Florence Briggs Th...</td>\n",
       "      <td>female</td>\n",
       "      <td>38.0</td>\n",
       "      <td>1</td>\n",
       "      <td>0</td>\n",
       "      <td>PC 17599</td>\n",
       "      <td>71.2833</td>\n",
       "      <td>C85</td>\n",
       "      <td>C</td>\n",
       "    </tr>\n",
       "    <tr>\n",
       "      <th>2</th>\n",
       "      <td>3</td>\n",
       "      <td>1</td>\n",
       "      <td>3</td>\n",
       "      <td>Heikkinen, Miss. Laina</td>\n",
       "      <td>female</td>\n",
       "      <td>26.0</td>\n",
       "      <td>0</td>\n",
       "      <td>0</td>\n",
       "      <td>STON/O2. 3101282</td>\n",
       "      <td>7.9250</td>\n",
       "      <td>NaN</td>\n",
       "      <td>S</td>\n",
       "    </tr>\n",
       "    <tr>\n",
       "      <th>3</th>\n",
       "      <td>4</td>\n",
       "      <td>1</td>\n",
       "      <td>1</td>\n",
       "      <td>Futrelle, Mrs. Jacques Heath (Lily May Peel)</td>\n",
       "      <td>female</td>\n",
       "      <td>35.0</td>\n",
       "      <td>1</td>\n",
       "      <td>0</td>\n",
       "      <td>113803</td>\n",
       "      <td>53.1000</td>\n",
       "      <td>C123</td>\n",
       "      <td>S</td>\n",
       "    </tr>\n",
       "    <tr>\n",
       "      <th>4</th>\n",
       "      <td>5</td>\n",
       "      <td>0</td>\n",
       "      <td>3</td>\n",
       "      <td>Allen, Mr. William Henry</td>\n",
       "      <td>male</td>\n",
       "      <td>35.0</td>\n",
       "      <td>0</td>\n",
       "      <td>0</td>\n",
       "      <td>373450</td>\n",
       "      <td>8.0500</td>\n",
       "      <td>NaN</td>\n",
       "      <td>S</td>\n",
       "    </tr>\n",
       "    <tr>\n",
       "      <th>5</th>\n",
       "      <td>6</td>\n",
       "      <td>0</td>\n",
       "      <td>3</td>\n",
       "      <td>Moran, Mr. James</td>\n",
       "      <td>male</td>\n",
       "      <td>NaN</td>\n",
       "      <td>0</td>\n",
       "      <td>0</td>\n",
       "      <td>330877</td>\n",
       "      <td>8.4583</td>\n",
       "      <td>NaN</td>\n",
       "      <td>Q</td>\n",
       "    </tr>\n",
       "    <tr>\n",
       "      <th>6</th>\n",
       "      <td>7</td>\n",
       "      <td>0</td>\n",
       "      <td>1</td>\n",
       "      <td>McCarthy, Mr. Timothy J</td>\n",
       "      <td>male</td>\n",
       "      <td>54.0</td>\n",
       "      <td>0</td>\n",
       "      <td>0</td>\n",
       "      <td>17463</td>\n",
       "      <td>51.8625</td>\n",
       "      <td>E46</td>\n",
       "      <td>S</td>\n",
       "    </tr>\n",
       "    <tr>\n",
       "      <th>7</th>\n",
       "      <td>8</td>\n",
       "      <td>0</td>\n",
       "      <td>3</td>\n",
       "      <td>Palsson, Master. Gosta Leonard</td>\n",
       "      <td>male</td>\n",
       "      <td>2.0</td>\n",
       "      <td>3</td>\n",
       "      <td>1</td>\n",
       "      <td>349909</td>\n",
       "      <td>21.0750</td>\n",
       "      <td>NaN</td>\n",
       "      <td>S</td>\n",
       "    </tr>\n",
       "    <tr>\n",
       "      <th>8</th>\n",
       "      <td>9</td>\n",
       "      <td>1</td>\n",
       "      <td>3</td>\n",
       "      <td>Johnson, Mrs. Oscar W (Elisabeth Vilhelmina Berg)</td>\n",
       "      <td>female</td>\n",
       "      <td>27.0</td>\n",
       "      <td>0</td>\n",
       "      <td>2</td>\n",
       "      <td>347742</td>\n",
       "      <td>11.1333</td>\n",
       "      <td>NaN</td>\n",
       "      <td>S</td>\n",
       "    </tr>\n",
       "    <tr>\n",
       "      <th>9</th>\n",
       "      <td>10</td>\n",
       "      <td>1</td>\n",
       "      <td>2</td>\n",
       "      <td>Nasser, Mrs. Nicholas (Adele Achem)</td>\n",
       "      <td>female</td>\n",
       "      <td>14.0</td>\n",
       "      <td>1</td>\n",
       "      <td>0</td>\n",
       "      <td>237736</td>\n",
       "      <td>30.0708</td>\n",
       "      <td>NaN</td>\n",
       "      <td>C</td>\n",
       "    </tr>\n",
       "  </tbody>\n",
       "</table>\n",
       "</div>"
      ],
      "text/plain": [
       "   PassengerId  Survived  Pclass  \\\n",
       "0            1         0       3   \n",
       "1            2         1       1   \n",
       "2            3         1       3   \n",
       "3            4         1       1   \n",
       "4            5         0       3   \n",
       "5            6         0       3   \n",
       "6            7         0       1   \n",
       "7            8         0       3   \n",
       "8            9         1       3   \n",
       "9           10         1       2   \n",
       "\n",
       "                                                Name     Sex   Age  SibSp  \\\n",
       "0                            Braund, Mr. Owen Harris    male  22.0      1   \n",
       "1  Cumings, Mrs. John Bradley (Florence Briggs Th...  female  38.0      1   \n",
       "2                             Heikkinen, Miss. Laina  female  26.0      0   \n",
       "3       Futrelle, Mrs. Jacques Heath (Lily May Peel)  female  35.0      1   \n",
       "4                           Allen, Mr. William Henry    male  35.0      0   \n",
       "5                                   Moran, Mr. James    male   NaN      0   \n",
       "6                            McCarthy, Mr. Timothy J    male  54.0      0   \n",
       "7                     Palsson, Master. Gosta Leonard    male   2.0      3   \n",
       "8  Johnson, Mrs. Oscar W (Elisabeth Vilhelmina Berg)  female  27.0      0   \n",
       "9                Nasser, Mrs. Nicholas (Adele Achem)  female  14.0      1   \n",
       "\n",
       "   Parch            Ticket     Fare Cabin Embarked  \n",
       "0      0         A/5 21171   7.2500   NaN        S  \n",
       "1      0          PC 17599  71.2833   C85        C  \n",
       "2      0  STON/O2. 3101282   7.9250   NaN        S  \n",
       "3      0            113803  53.1000  C123        S  \n",
       "4      0            373450   8.0500   NaN        S  \n",
       "5      0            330877   8.4583   NaN        Q  \n",
       "6      0             17463  51.8625   E46        S  \n",
       "7      1            349909  21.0750   NaN        S  \n",
       "8      2            347742  11.1333   NaN        S  \n",
       "9      0            237736  30.0708   NaN        C  "
      ]
     },
     "metadata": {},
     "output_type": "display_data"
    }
   ],
   "source": [
    "# upload train dataset\n",
    "df_train = pd.read_csv(os.path.join(datasets_dir, 'train.csv'))\n",
    "\n",
    "# check shape of the dataset\n",
    "print('Shape of the train dataset:', df_train.shape, end='\\n\\n')\n",
    "\n",
    "# watch first 10 rows\n",
    "print('First five rows of the train dataset:')\n",
    "display(df_train.head(10))"
   ]
  },
  {
   "cell_type": "code",
   "execution_count": 4,
   "id": "38fc4828",
   "metadata": {},
   "outputs": [
    {
     "name": "stdout",
     "output_type": "stream",
     "text": [
      "<class 'pandas.core.frame.DataFrame'>\n",
      "RangeIndex: 891 entries, 0 to 890\n",
      "Data columns (total 12 columns):\n",
      " #   Column       Non-Null Count  Dtype  \n",
      "---  ------       --------------  -----  \n",
      " 0   PassengerId  891 non-null    int64  \n",
      " 1   Survived     891 non-null    int64  \n",
      " 2   Pclass       891 non-null    int64  \n",
      " 3   Name         891 non-null    object \n",
      " 4   Sex          891 non-null    object \n",
      " 5   Age          714 non-null    float64\n",
      " 6   SibSp        891 non-null    int64  \n",
      " 7   Parch        891 non-null    int64  \n",
      " 8   Ticket       891 non-null    object \n",
      " 9   Fare         891 non-null    float64\n",
      " 10  Cabin        204 non-null    object \n",
      " 11  Embarked     889 non-null    object \n",
      "dtypes: float64(2), int64(5), object(5)\n",
      "memory usage: 83.7+ KB\n"
     ]
    }
   ],
   "source": [
    "# train dataset info\n",
    "df_train.info()"
   ]
  },
  {
   "cell_type": "markdown",
   "id": "63147136",
   "metadata": {},
   "source": [
    "#### Test dataset"
   ]
  },
  {
   "cell_type": "code",
   "execution_count": 5,
   "id": "01789418",
   "metadata": {
    "scrolled": true
   },
   "outputs": [
    {
     "name": "stdout",
     "output_type": "stream",
     "text": [
      "Shape of the test dataset: (418, 11)\n",
      "\n",
      "First five rows in the test dataset:\n"
     ]
    },
    {
     "data": {
      "text/html": [
       "<div>\n",
       "<style scoped>\n",
       "    .dataframe tbody tr th:only-of-type {\n",
       "        vertical-align: middle;\n",
       "    }\n",
       "\n",
       "    .dataframe tbody tr th {\n",
       "        vertical-align: top;\n",
       "    }\n",
       "\n",
       "    .dataframe thead th {\n",
       "        text-align: right;\n",
       "    }\n",
       "</style>\n",
       "<table border=\"1\" class=\"dataframe\">\n",
       "  <thead>\n",
       "    <tr style=\"text-align: right;\">\n",
       "      <th></th>\n",
       "      <th>PassengerId</th>\n",
       "      <th>Pclass</th>\n",
       "      <th>Name</th>\n",
       "      <th>Sex</th>\n",
       "      <th>Age</th>\n",
       "      <th>SibSp</th>\n",
       "      <th>Parch</th>\n",
       "      <th>Ticket</th>\n",
       "      <th>Fare</th>\n",
       "      <th>Cabin</th>\n",
       "      <th>Embarked</th>\n",
       "    </tr>\n",
       "  </thead>\n",
       "  <tbody>\n",
       "    <tr>\n",
       "      <th>0</th>\n",
       "      <td>892</td>\n",
       "      <td>3</td>\n",
       "      <td>Kelly, Mr. James</td>\n",
       "      <td>male</td>\n",
       "      <td>34.5</td>\n",
       "      <td>0</td>\n",
       "      <td>0</td>\n",
       "      <td>330911</td>\n",
       "      <td>7.8292</td>\n",
       "      <td>NaN</td>\n",
       "      <td>Q</td>\n",
       "    </tr>\n",
       "    <tr>\n",
       "      <th>1</th>\n",
       "      <td>893</td>\n",
       "      <td>3</td>\n",
       "      <td>Wilkes, Mrs. James (Ellen Needs)</td>\n",
       "      <td>female</td>\n",
       "      <td>47.0</td>\n",
       "      <td>1</td>\n",
       "      <td>0</td>\n",
       "      <td>363272</td>\n",
       "      <td>7.0000</td>\n",
       "      <td>NaN</td>\n",
       "      <td>S</td>\n",
       "    </tr>\n",
       "    <tr>\n",
       "      <th>2</th>\n",
       "      <td>894</td>\n",
       "      <td>2</td>\n",
       "      <td>Myles, Mr. Thomas Francis</td>\n",
       "      <td>male</td>\n",
       "      <td>62.0</td>\n",
       "      <td>0</td>\n",
       "      <td>0</td>\n",
       "      <td>240276</td>\n",
       "      <td>9.6875</td>\n",
       "      <td>NaN</td>\n",
       "      <td>Q</td>\n",
       "    </tr>\n",
       "    <tr>\n",
       "      <th>3</th>\n",
       "      <td>895</td>\n",
       "      <td>3</td>\n",
       "      <td>Wirz, Mr. Albert</td>\n",
       "      <td>male</td>\n",
       "      <td>27.0</td>\n",
       "      <td>0</td>\n",
       "      <td>0</td>\n",
       "      <td>315154</td>\n",
       "      <td>8.6625</td>\n",
       "      <td>NaN</td>\n",
       "      <td>S</td>\n",
       "    </tr>\n",
       "    <tr>\n",
       "      <th>4</th>\n",
       "      <td>896</td>\n",
       "      <td>3</td>\n",
       "      <td>Hirvonen, Mrs. Alexander (Helga E Lindqvist)</td>\n",
       "      <td>female</td>\n",
       "      <td>22.0</td>\n",
       "      <td>1</td>\n",
       "      <td>1</td>\n",
       "      <td>3101298</td>\n",
       "      <td>12.2875</td>\n",
       "      <td>NaN</td>\n",
       "      <td>S</td>\n",
       "    </tr>\n",
       "    <tr>\n",
       "      <th>5</th>\n",
       "      <td>897</td>\n",
       "      <td>3</td>\n",
       "      <td>Svensson, Mr. Johan Cervin</td>\n",
       "      <td>male</td>\n",
       "      <td>14.0</td>\n",
       "      <td>0</td>\n",
       "      <td>0</td>\n",
       "      <td>7538</td>\n",
       "      <td>9.2250</td>\n",
       "      <td>NaN</td>\n",
       "      <td>S</td>\n",
       "    </tr>\n",
       "    <tr>\n",
       "      <th>6</th>\n",
       "      <td>898</td>\n",
       "      <td>3</td>\n",
       "      <td>Connolly, Miss. Kate</td>\n",
       "      <td>female</td>\n",
       "      <td>30.0</td>\n",
       "      <td>0</td>\n",
       "      <td>0</td>\n",
       "      <td>330972</td>\n",
       "      <td>7.6292</td>\n",
       "      <td>NaN</td>\n",
       "      <td>Q</td>\n",
       "    </tr>\n",
       "    <tr>\n",
       "      <th>7</th>\n",
       "      <td>899</td>\n",
       "      <td>2</td>\n",
       "      <td>Caldwell, Mr. Albert Francis</td>\n",
       "      <td>male</td>\n",
       "      <td>26.0</td>\n",
       "      <td>1</td>\n",
       "      <td>1</td>\n",
       "      <td>248738</td>\n",
       "      <td>29.0000</td>\n",
       "      <td>NaN</td>\n",
       "      <td>S</td>\n",
       "    </tr>\n",
       "    <tr>\n",
       "      <th>8</th>\n",
       "      <td>900</td>\n",
       "      <td>3</td>\n",
       "      <td>Abrahim, Mrs. Joseph (Sophie Halaut Easu)</td>\n",
       "      <td>female</td>\n",
       "      <td>18.0</td>\n",
       "      <td>0</td>\n",
       "      <td>0</td>\n",
       "      <td>2657</td>\n",
       "      <td>7.2292</td>\n",
       "      <td>NaN</td>\n",
       "      <td>C</td>\n",
       "    </tr>\n",
       "    <tr>\n",
       "      <th>9</th>\n",
       "      <td>901</td>\n",
       "      <td>3</td>\n",
       "      <td>Davies, Mr. John Samuel</td>\n",
       "      <td>male</td>\n",
       "      <td>21.0</td>\n",
       "      <td>2</td>\n",
       "      <td>0</td>\n",
       "      <td>A/4 48871</td>\n",
       "      <td>24.1500</td>\n",
       "      <td>NaN</td>\n",
       "      <td>S</td>\n",
       "    </tr>\n",
       "  </tbody>\n",
       "</table>\n",
       "</div>"
      ],
      "text/plain": [
       "   PassengerId  Pclass                                          Name     Sex  \\\n",
       "0          892       3                              Kelly, Mr. James    male   \n",
       "1          893       3              Wilkes, Mrs. James (Ellen Needs)  female   \n",
       "2          894       2                     Myles, Mr. Thomas Francis    male   \n",
       "3          895       3                              Wirz, Mr. Albert    male   \n",
       "4          896       3  Hirvonen, Mrs. Alexander (Helga E Lindqvist)  female   \n",
       "5          897       3                    Svensson, Mr. Johan Cervin    male   \n",
       "6          898       3                          Connolly, Miss. Kate  female   \n",
       "7          899       2                  Caldwell, Mr. Albert Francis    male   \n",
       "8          900       3     Abrahim, Mrs. Joseph (Sophie Halaut Easu)  female   \n",
       "9          901       3                       Davies, Mr. John Samuel    male   \n",
       "\n",
       "    Age  SibSp  Parch     Ticket     Fare Cabin Embarked  \n",
       "0  34.5      0      0     330911   7.8292   NaN        Q  \n",
       "1  47.0      1      0     363272   7.0000   NaN        S  \n",
       "2  62.0      0      0     240276   9.6875   NaN        Q  \n",
       "3  27.0      0      0     315154   8.6625   NaN        S  \n",
       "4  22.0      1      1    3101298  12.2875   NaN        S  \n",
       "5  14.0      0      0       7538   9.2250   NaN        S  \n",
       "6  30.0      0      0     330972   7.6292   NaN        Q  \n",
       "7  26.0      1      1     248738  29.0000   NaN        S  \n",
       "8  18.0      0      0       2657   7.2292   NaN        C  \n",
       "9  21.0      2      0  A/4 48871  24.1500   NaN        S  "
      ]
     },
     "metadata": {},
     "output_type": "display_data"
    }
   ],
   "source": [
    "# upload gender test dataset\n",
    "df_test = pd.read_csv(os.path.join(datasets_dir, 'test.csv'))\n",
    "\n",
    "# check shape of the dataset\n",
    "print('Shape of the test dataset:', df_test.shape, end='\\n\\n')\n",
    "\n",
    "# watch first 10 rows in it\n",
    "print('First five rows in the test dataset:')\n",
    "display(df_test.head(10))"
   ]
  },
  {
   "cell_type": "code",
   "execution_count": 6,
   "id": "ade3d994",
   "metadata": {},
   "outputs": [
    {
     "name": "stdout",
     "output_type": "stream",
     "text": [
      "<class 'pandas.core.frame.DataFrame'>\n",
      "RangeIndex: 418 entries, 0 to 417\n",
      "Data columns (total 11 columns):\n",
      " #   Column       Non-Null Count  Dtype  \n",
      "---  ------       --------------  -----  \n",
      " 0   PassengerId  418 non-null    int64  \n",
      " 1   Pclass       418 non-null    int64  \n",
      " 2   Name         418 non-null    object \n",
      " 3   Sex          418 non-null    object \n",
      " 4   Age          332 non-null    float64\n",
      " 5   SibSp        418 non-null    int64  \n",
      " 6   Parch        418 non-null    int64  \n",
      " 7   Ticket       418 non-null    object \n",
      " 8   Fare         417 non-null    float64\n",
      " 9   Cabin        91 non-null     object \n",
      " 10  Embarked     418 non-null    object \n",
      "dtypes: float64(2), int64(4), object(5)\n",
      "memory usage: 36.0+ KB\n"
     ]
    }
   ],
   "source": [
    "# test dataset info\n",
    "df_test.info()"
   ]
  },
  {
   "cell_type": "markdown",
   "id": "d83ccb2a",
   "metadata": {},
   "source": [
    "#### Gender submission"
   ]
  },
  {
   "cell_type": "code",
   "execution_count": 7,
   "id": "02567f17",
   "metadata": {},
   "outputs": [
    {
     "name": "stdout",
     "output_type": "stream",
     "text": [
      "Shape of the gender_submission dataset: (418, 2)\n",
      "\n",
      "First five rows in the gender submission dataset:\n"
     ]
    },
    {
     "data": {
      "text/html": [
       "<div>\n",
       "<style scoped>\n",
       "    .dataframe tbody tr th:only-of-type {\n",
       "        vertical-align: middle;\n",
       "    }\n",
       "\n",
       "    .dataframe tbody tr th {\n",
       "        vertical-align: top;\n",
       "    }\n",
       "\n",
       "    .dataframe thead th {\n",
       "        text-align: right;\n",
       "    }\n",
       "</style>\n",
       "<table border=\"1\" class=\"dataframe\">\n",
       "  <thead>\n",
       "    <tr style=\"text-align: right;\">\n",
       "      <th></th>\n",
       "      <th>PassengerId</th>\n",
       "      <th>Survived</th>\n",
       "    </tr>\n",
       "  </thead>\n",
       "  <tbody>\n",
       "    <tr>\n",
       "      <th>0</th>\n",
       "      <td>892</td>\n",
       "      <td>0</td>\n",
       "    </tr>\n",
       "    <tr>\n",
       "      <th>1</th>\n",
       "      <td>893</td>\n",
       "      <td>1</td>\n",
       "    </tr>\n",
       "    <tr>\n",
       "      <th>2</th>\n",
       "      <td>894</td>\n",
       "      <td>0</td>\n",
       "    </tr>\n",
       "    <tr>\n",
       "      <th>3</th>\n",
       "      <td>895</td>\n",
       "      <td>0</td>\n",
       "    </tr>\n",
       "    <tr>\n",
       "      <th>4</th>\n",
       "      <td>896</td>\n",
       "      <td>1</td>\n",
       "    </tr>\n",
       "  </tbody>\n",
       "</table>\n",
       "</div>"
      ],
      "text/plain": [
       "   PassengerId  Survived\n",
       "0          892         0\n",
       "1          893         1\n",
       "2          894         0\n",
       "3          895         0\n",
       "4          896         1"
      ]
     },
     "metadata": {},
     "output_type": "display_data"
    }
   ],
   "source": [
    "# upload gender submission dataset\n",
    "df_gender = pd.read_csv(os.path.join(datasets_dir, 'gender_submission.csv'))\n",
    "\n",
    "# check shape of the dataset\n",
    "print('Shape of the gender_submission dataset:', df_gender.shape, end='\\n\\n')\n",
    "\n",
    "# watch first 5 rows in it\n",
    "print('First five rows in the gender submission dataset:')\n",
    "display(df_gender.head())"
   ]
  },
  {
   "cell_type": "markdown",
   "id": "c9caae9e",
   "metadata": {},
   "source": [
    "[to the table of contents](#table_of_contents)\n",
    "<a id=\"brief_conclusions\"></a>"
   ]
  },
  {
   "cell_type": "markdown",
   "id": "3e59b5eb",
   "metadata": {},
   "source": [
    "### Brief conclusions"
   ]
  },
  {
   "cell_type": "markdown",
   "id": "316f25b0",
   "metadata": {},
   "source": [
    "So..."
   ]
  },
  {
   "cell_type": "markdown",
   "id": "b60c9b1d",
   "metadata": {},
   "source": [
    "[to the table of contents](#table_of_contents)\n",
    "<a id=\"data_analysis\"></a>"
   ]
  },
  {
   "cell_type": "markdown",
   "id": "1b98daf6",
   "metadata": {},
   "source": [
    "## Data analysis"
   ]
  },
  {
   "cell_type": "markdown",
   "id": "9cf0b467",
   "metadata": {},
   "source": [
    "<a id=\"duplicates\"></a>"
   ]
  },
  {
   "cell_type": "markdown",
   "id": "c3bea9bf",
   "metadata": {},
   "source": [
    "### Duplicates\n",
    "Let's check are there duplicates or not?"
   ]
  },
  {
   "cell_type": "code",
   "execution_count": 8,
   "id": "f8fa6707",
   "metadata": {
    "scrolled": false
   },
   "outputs": [
    {
     "name": "stdout",
     "output_type": "stream",
     "text": [
      "0\n"
     ]
    }
   ],
   "source": [
    "print(df_train.duplicated().sum())"
   ]
  },
  {
   "cell_type": "markdown",
   "id": "f5b62fe2",
   "metadata": {},
   "source": [
    "#### Hidden duplicates"
   ]
  },
  {
   "cell_type": "markdown",
   "id": "e8955d66",
   "metadata": {},
   "source": [
    "There is not any hidden duplicate"
   ]
  },
  {
   "cell_type": "markdown",
   "id": "f132d9da",
   "metadata": {},
   "source": [
    "[to the table of contents](#table_of_contents)\n",
    "<a id=\"data_visualisation\"></a>"
   ]
  },
  {
   "cell_type": "markdown",
   "id": "c960ce8f",
   "metadata": {},
   "source": [
    "### Data visualisation"
   ]
  },
  {
   "cell_type": "markdown",
   "id": "9f4a3451",
   "metadata": {},
   "source": [
    "<a id=\"target_feature\"></a>"
   ]
  },
  {
   "cell_type": "markdown",
   "id": "2747e30f",
   "metadata": {},
   "source": [
    "#### Target feature"
   ]
  },
  {
   "cell_type": "code",
   "execution_count": 9,
   "id": "d95d2eb9",
   "metadata": {
    "scrolled": true
   },
   "outputs": [
    {
     "data": {
      "image/png": "[encoded data removed]",
      "text/plain": [
       "<Figure size 504x360 with 1 Axes>"
      ]
     },
     "metadata": {
      "needs_background": "light"
     },
     "output_type": "display_data"
    }
   ],
   "source": [
    "# Let's compare the number of survivos and the number of deceased on the graph:\n",
    "plt.figure(figsize=(7,5))\n",
    "sns.countplot(x='Survived', data=df_train)\n",
    "plt.title('Survived or not survived')\n",
    "plt.show()"
   ]
  },
  {
   "cell_type": "markdown",
   "id": "b4a93830",
   "metadata": {},
   "source": [
    "Unfortunately, the number of survivors is significantly less than the number of deceased."
   ]
  },
  {
   "cell_type": "markdown",
   "id": "7f7aebb0",
   "metadata": {},
   "source": [
    "[to the table of contents](#table_of_contents)\n",
    "<a id=\"categorial_features\"></a>"
   ]
  },
  {
   "cell_type": "markdown",
   "id": "25a7eed6",
   "metadata": {},
   "source": [
    "#### Categorial features"
   ]
  },
  {
   "cell_type": "code",
   "execution_count": 10,
   "id": "3a96cd5b",
   "metadata": {},
   "outputs": [],
   "source": [
    "cat_features = ['Pclass', 'Sex', 'Embarked']"
   ]
  },
  {
   "cell_type": "code",
   "execution_count": 11,
   "id": "66943138",
   "metadata": {
    "scrolled": true
   },
   "outputs": [
    {
     "data": {
      "image/png": "[encoded data removed]",
      "text/plain": [
       "<Figure size 1080x288 with 3 Axes>"
      ]
     },
     "metadata": {
      "needs_background": "light"
     },
     "output_type": "display_data"
    }
   ],
   "source": [
    "# create figure with three slots\n",
    "fig, axes = plt.subplots(nrows=1, ncols=3, figsize=(15, 4))\n",
    "\n",
    "# do the monomer massive from the axis\n",
    "for i, ax in enumerate(axes.flat):\n",
    "    sns.countplot(x=cat_features[i], data=df_train[cat_features].dropna(axis=0), ax=ax)\n",
    "    \n",
    "fig.suptitle('Categorial features graphs', fontsize=23)\n",
    "plt.show()"
   ]
  },
  {
   "cell_type": "markdown",
   "id": "a1bdad77",
   "metadata": {},
   "source": [
    "##### Let's plot categorial features by target"
   ]
  },
  {
   "cell_type": "code",
   "execution_count": 12,
   "id": "b322c092",
   "metadata": {},
   "outputs": [
    {
     "data": {
      "image/png": "[encoded data removed]",
      "text/plain": [
       "<Figure size 1080x288 with 3 Axes>"
      ]
     },
     "metadata": {
      "needs_background": "light"
     },
     "output_type": "display_data"
    }
   ],
   "source": [
    "fig, axes = plt.subplots(nrows=1, ncols=3, figsize=(15, 4))\n",
    "\n",
    "for i, column in enumerate(cat_features):\n",
    "    df = df_train.pivot_table(index='Survived', columns=column, aggfunc='count')['PassengerId']\n",
    "    ax = axes[i]\n",
    "    bottom = np.zeros(2)\n",
    "    width = 0.5\n",
    "    species = ('Dead', 'Survived')\n",
    "    for clmn, array in df.items():\n",
    "        p = ax.bar(species, array, width, label=clmn, bottom=bottom)\n",
    "        bottom += array\n",
    "        ax.bar_label(p, label_type='center')\n",
    "        \n",
    "    ax.set_title(f'Number of survived by {column}')\n",
    "    ax.legend()\n",
    "    \n",
    "plt.show()"
   ]
  },
  {
   "cell_type": "markdown",
   "id": "c82a9672",
   "metadata": {},
   "source": [
    "##### Let's plot target by categorial features:"
   ]
  },
  {
   "cell_type": "code",
   "execution_count": 13,
   "id": "a5b2c324",
   "metadata": {},
   "outputs": [
    {
     "data": {
      "image/png": "[encoded data removed]",
      "text/plain": [
       "<Figure size 1080x288 with 3 Axes>"
      ]
     },
     "metadata": {
      "needs_background": "light"
     },
     "output_type": "display_data"
    }
   ],
   "source": [
    "fig, axes = plt.subplots(nrows=1, ncols=3, figsize=(15, 4))\n",
    "\n",
    "for i, column in enumerate(cat_features):\n",
    "    df = df_train.pivot_table(index=column, columns='Survived', aggfunc='count')['PassengerId']\n",
    "    ax = axes[i]\n",
    "    bottom = np.zeros(len(df))\n",
    "    width = 0.5\n",
    "    species = df.index.values\n",
    "    for clmn_name, clmn_values in df.items():\n",
    "        p = ax.bar(species, clmn_values, width, label=clmn_name, bottom=bottom)\n",
    "        bottom += clmn_values\n",
    "        ax.bar_label(p, label_type='center')\n",
    "        \n",
    "    ax.set_title(f'Number of survived by {column}')\n",
    "    ax.legend()\n",
    "\n",
    "plt.show()"
   ]
  },
  {
   "cell_type": "markdown",
   "id": "85a03210",
   "metadata": {},
   "source": [
    "<a id=\"brief_conclusions_categorial_features\"></a>"
   ]
  },
  {
   "cell_type": "markdown",
   "id": "4e31ebd0",
   "metadata": {},
   "source": [
    "##### Brief conclusions\n",
    "\n",
    "So, we can see that most part of deasesed is the third class passangers. "
   ]
  },
  {
   "cell_type": "markdown",
   "id": "ab172900",
   "metadata": {},
   "source": [
    "[to the table of contents](#table_of_contents)\n",
    "<a id=\"numerical_features\"></a>"
   ]
  },
  {
   "cell_type": "markdown",
   "id": "e52245dc",
   "metadata": {},
   "source": [
    "#### Numerical features"
   ]
  },
  {
   "cell_type": "markdown",
   "id": "89df081e",
   "metadata": {},
   "source": [
    "Let's plot "
   ]
  },
  {
   "cell_type": "code",
   "execution_count": 14,
   "id": "7d083ed4",
   "metadata": {},
   "outputs": [],
   "source": [
    "num_features = ['Age', 'SibSp', 'Parch', 'Fare']"
   ]
  },
  {
   "cell_type": "code",
   "execution_count": 15,
   "id": "2a15fbba",
   "metadata": {
    "scrolled": false
   },
   "outputs": [
    {
     "data": {
      "text/html": [
       "<div>\n",
       "<style scoped>\n",
       "    .dataframe tbody tr th:only-of-type {\n",
       "        vertical-align: middle;\n",
       "    }\n",
       "\n",
       "    .dataframe tbody tr th {\n",
       "        vertical-align: top;\n",
       "    }\n",
       "\n",
       "    .dataframe thead th {\n",
       "        text-align: right;\n",
       "    }\n",
       "</style>\n",
       "<table border=\"1\" class=\"dataframe\">\n",
       "  <thead>\n",
       "    <tr style=\"text-align: right;\">\n",
       "      <th></th>\n",
       "      <th>Age</th>\n",
       "      <th>SibSp</th>\n",
       "      <th>Parch</th>\n",
       "      <th>Fare</th>\n",
       "    </tr>\n",
       "  </thead>\n",
       "  <tbody>\n",
       "    <tr>\n",
       "      <th>count</th>\n",
       "      <td>714.000000</td>\n",
       "      <td>891.000000</td>\n",
       "      <td>891.000000</td>\n",
       "      <td>891.000000</td>\n",
       "    </tr>\n",
       "    <tr>\n",
       "      <th>mean</th>\n",
       "      <td>29.699118</td>\n",
       "      <td>0.523008</td>\n",
       "      <td>0.381594</td>\n",
       "      <td>32.204208</td>\n",
       "    </tr>\n",
       "    <tr>\n",
       "      <th>std</th>\n",
       "      <td>14.526497</td>\n",
       "      <td>1.102743</td>\n",
       "      <td>0.806057</td>\n",
       "      <td>49.693429</td>\n",
       "    </tr>\n",
       "    <tr>\n",
       "      <th>min</th>\n",
       "      <td>0.420000</td>\n",
       "      <td>0.000000</td>\n",
       "      <td>0.000000</td>\n",
       "      <td>0.000000</td>\n",
       "    </tr>\n",
       "    <tr>\n",
       "      <th>25%</th>\n",
       "      <td>20.125000</td>\n",
       "      <td>0.000000</td>\n",
       "      <td>0.000000</td>\n",
       "      <td>7.910400</td>\n",
       "    </tr>\n",
       "    <tr>\n",
       "      <th>50%</th>\n",
       "      <td>28.000000</td>\n",
       "      <td>0.000000</td>\n",
       "      <td>0.000000</td>\n",
       "      <td>14.454200</td>\n",
       "    </tr>\n",
       "    <tr>\n",
       "      <th>75%</th>\n",
       "      <td>38.000000</td>\n",
       "      <td>1.000000</td>\n",
       "      <td>0.000000</td>\n",
       "      <td>31.000000</td>\n",
       "    </tr>\n",
       "    <tr>\n",
       "      <th>max</th>\n",
       "      <td>80.000000</td>\n",
       "      <td>8.000000</td>\n",
       "      <td>6.000000</td>\n",
       "      <td>512.329200</td>\n",
       "    </tr>\n",
       "  </tbody>\n",
       "</table>\n",
       "</div>"
      ],
      "text/plain": [
       "              Age       SibSp       Parch        Fare\n",
       "count  714.000000  891.000000  891.000000  891.000000\n",
       "mean    29.699118    0.523008    0.381594   32.204208\n",
       "std     14.526497    1.102743    0.806057   49.693429\n",
       "min      0.420000    0.000000    0.000000    0.000000\n",
       "25%     20.125000    0.000000    0.000000    7.910400\n",
       "50%     28.000000    0.000000    0.000000   14.454200\n",
       "75%     38.000000    1.000000    0.000000   31.000000\n",
       "max     80.000000    8.000000    6.000000  512.329200"
      ]
     },
     "metadata": {},
     "output_type": "display_data"
    }
   ],
   "source": [
    "display(df_train[num_features].describe())"
   ]
  },
  {
   "cell_type": "code",
   "execution_count": 16,
   "id": "1d604078",
   "metadata": {},
   "outputs": [
    {
     "data": {
      "image/png": "[encoded data removed]",
      "text/plain": [
       "<Figure size 1152x432 with 2 Axes>"
      ]
     },
     "metadata": {
      "needs_background": "light"
     },
     "output_type": "display_data"
    }
   ],
   "source": [
    "fig, axes = plt.subplots(nrows=1, ncols=2, figsize=(16, 6))\n",
    "for i, feature in enumerate(['Age', 'Fare']):\n",
    "    ax = axes.flat[i]\n",
    "    sns.kdeplot(df_train[feature]\n",
    "               , gridsize=500\n",
    "               , bw_adjust=1\n",
    "               , common_grid=True\n",
    "               , fill=True\n",
    "               , alpha=0.5\n",
    "               , label=feature\n",
    "               , ax=ax)\n",
    "    ax.set_title(f'Density of {feature}')\n",
    "    ax.legend()\n",
    "\n",
    "\n",
    "plt.show()"
   ]
  },
  {
   "cell_type": "code",
   "execution_count": 17,
   "id": "67363c7e",
   "metadata": {
    "scrolled": true
   },
   "outputs": [
    {
     "data": {
      "image/png": "[encoded data removed]",
      "text/plain": [
       "<Figure size 720x360 with 1 Axes>"
      ]
     },
     "metadata": {
      "needs_background": "light"
     },
     "output_type": "display_data"
    }
   ],
   "source": [
    "# import seaborn as sns\n",
    "\n",
    "plt.figure(figsize=(10, 5))\n",
    "\n",
    "sns.boxplot(data=df_train, x='Pclass',y='Fare')\n",
    "\n",
    "plt.title('\"Box plot\"')\n",
    "plt.xlabel('Pclass')\n",
    "plt.ylabel('Ticket cost')\n",
    "\n",
    "plt.show()"
   ]
  },
  {
   "cell_type": "markdown",
   "id": "adda7d41",
   "metadata": {},
   "source": [
    "[to the table of contents](#table_of_contents)\n",
    "<a id=\"data_preparation\"></a>"
   ]
  },
  {
   "cell_type": "markdown",
   "id": "63c8a5d5",
   "metadata": {},
   "source": [
    "### Data preparation"
   ]
  },
  {
   "cell_type": "markdown",
   "id": "bbc0ed39",
   "metadata": {},
   "source": [
    "[to the table of contents](#table_of_contents)\n",
    "<a id=\"fill_na\"></a>"
   ]
  },
  {
   "cell_type": "markdown",
   "id": "0733c371",
   "metadata": {},
   "source": [
    "#### Fill na"
   ]
  },
  {
   "cell_type": "markdown",
   "id": "59caa6be",
   "metadata": {},
   "source": [
    "##### Embarked"
   ]
  },
  {
   "cell_type": "code",
   "execution_count": 18,
   "id": "2c6d8156",
   "metadata": {},
   "outputs": [
    {
     "data": {
      "text/html": [
       "<div>\n",
       "<style scoped>\n",
       "    .dataframe tbody tr th:only-of-type {\n",
       "        vertical-align: middle;\n",
       "    }\n",
       "\n",
       "    .dataframe tbody tr th {\n",
       "        vertical-align: top;\n",
       "    }\n",
       "\n",
       "    .dataframe thead th {\n",
       "        text-align: right;\n",
       "    }\n",
       "</style>\n",
       "<table border=\"1\" class=\"dataframe\">\n",
       "  <thead>\n",
       "    <tr style=\"text-align: right;\">\n",
       "      <th></th>\n",
       "      <th>PassengerId</th>\n",
       "      <th>Survived</th>\n",
       "      <th>Pclass</th>\n",
       "      <th>Name</th>\n",
       "      <th>Sex</th>\n",
       "      <th>Age</th>\n",
       "      <th>SibSp</th>\n",
       "      <th>Parch</th>\n",
       "      <th>Ticket</th>\n",
       "      <th>Fare</th>\n",
       "      <th>Cabin</th>\n",
       "      <th>Embarked</th>\n",
       "    </tr>\n",
       "  </thead>\n",
       "  <tbody>\n",
       "    <tr>\n",
       "      <th>61</th>\n",
       "      <td>62</td>\n",
       "      <td>1</td>\n",
       "      <td>1</td>\n",
       "      <td>Icard, Miss. Amelie</td>\n",
       "      <td>female</td>\n",
       "      <td>38.0</td>\n",
       "      <td>0</td>\n",
       "      <td>0</td>\n",
       "      <td>113572</td>\n",
       "      <td>80.0</td>\n",
       "      <td>B28</td>\n",
       "      <td>NaN</td>\n",
       "    </tr>\n",
       "    <tr>\n",
       "      <th>829</th>\n",
       "      <td>830</td>\n",
       "      <td>1</td>\n",
       "      <td>1</td>\n",
       "      <td>Stone, Mrs. George Nelson (Martha Evelyn)</td>\n",
       "      <td>female</td>\n",
       "      <td>62.0</td>\n",
       "      <td>0</td>\n",
       "      <td>0</td>\n",
       "      <td>113572</td>\n",
       "      <td>80.0</td>\n",
       "      <td>B28</td>\n",
       "      <td>NaN</td>\n",
       "    </tr>\n",
       "  </tbody>\n",
       "</table>\n",
       "</div>"
      ],
      "text/plain": [
       "     PassengerId  Survived  Pclass                                       Name  \\\n",
       "61            62         1       1                        Icard, Miss. Amelie   \n",
       "829          830         1       1  Stone, Mrs. George Nelson (Martha Evelyn)   \n",
       "\n",
       "        Sex   Age  SibSp  Parch  Ticket  Fare Cabin Embarked  \n",
       "61   female  38.0      0      0  113572  80.0   B28      NaN  \n",
       "829  female  62.0      0      0  113572  80.0   B28      NaN  "
      ]
     },
     "metadata": {},
     "output_type": "display_data"
    }
   ],
   "source": [
    "display(df_train[df_train['Embarked'].isnull()])"
   ]
  },
  {
   "cell_type": "code",
   "execution_count": 19,
   "id": "9197565e",
   "metadata": {},
   "outputs": [
    {
     "data": {
      "text/html": [
       "<div>\n",
       "<style scoped>\n",
       "    .dataframe tbody tr th:only-of-type {\n",
       "        vertical-align: middle;\n",
       "    }\n",
       "\n",
       "    .dataframe tbody tr th {\n",
       "        vertical-align: top;\n",
       "    }\n",
       "\n",
       "    .dataframe thead th {\n",
       "        text-align: right;\n",
       "    }\n",
       "</style>\n",
       "<table border=\"1\" class=\"dataframe\">\n",
       "  <thead>\n",
       "    <tr style=\"text-align: right;\">\n",
       "      <th></th>\n",
       "      <th>PassengerId</th>\n",
       "      <th>Survived</th>\n",
       "      <th>Pclass</th>\n",
       "      <th>Name</th>\n",
       "      <th>Sex</th>\n",
       "      <th>Age</th>\n",
       "      <th>SibSp</th>\n",
       "      <th>Parch</th>\n",
       "      <th>Ticket</th>\n",
       "      <th>Fare</th>\n",
       "      <th>Cabin</th>\n",
       "      <th>Embarked</th>\n",
       "    </tr>\n",
       "  </thead>\n",
       "  <tbody>\n",
       "    <tr>\n",
       "      <th>61</th>\n",
       "      <td>62</td>\n",
       "      <td>1</td>\n",
       "      <td>1</td>\n",
       "      <td>Icard, Miss. Amelie</td>\n",
       "      <td>female</td>\n",
       "      <td>38.0</td>\n",
       "      <td>0</td>\n",
       "      <td>0</td>\n",
       "      <td>113572</td>\n",
       "      <td>80.0</td>\n",
       "      <td>B28</td>\n",
       "      <td>NaN</td>\n",
       "    </tr>\n",
       "    <tr>\n",
       "      <th>829</th>\n",
       "      <td>830</td>\n",
       "      <td>1</td>\n",
       "      <td>1</td>\n",
       "      <td>Stone, Mrs. George Nelson (Martha Evelyn)</td>\n",
       "      <td>female</td>\n",
       "      <td>62.0</td>\n",
       "      <td>0</td>\n",
       "      <td>0</td>\n",
       "      <td>113572</td>\n",
       "      <td>80.0</td>\n",
       "      <td>B28</td>\n",
       "      <td>NaN</td>\n",
       "    </tr>\n",
       "  </tbody>\n",
       "</table>\n",
       "</div>"
      ],
      "text/plain": [
       "     PassengerId  Survived  Pclass                                       Name  \\\n",
       "61            62         1       1                        Icard, Miss. Amelie   \n",
       "829          830         1       1  Stone, Mrs. George Nelson (Martha Evelyn)   \n",
       "\n",
       "        Sex   Age  SibSp  Parch  Ticket  Fare Cabin Embarked  \n",
       "61   female  38.0      0      0  113572  80.0   B28      NaN  \n",
       "829  female  62.0      0      0  113572  80.0   B28      NaN  "
      ]
     },
     "metadata": {},
     "output_type": "display_data"
    }
   ],
   "source": [
    "display(df_train[df_train['Cabin']=='B28'])"
   ]
  },
  {
   "cell_type": "code",
   "execution_count": 22,
   "id": "954ad1ea",
   "metadata": {
    "scrolled": true
   },
   "outputs": [
    {
     "data": {
      "text/html": [
       "<div>\n",
       "<style scoped>\n",
       "    .dataframe tbody tr th:only-of-type {\n",
       "        vertical-align: middle;\n",
       "    }\n",
       "\n",
       "    .dataframe tbody tr th {\n",
       "        vertical-align: top;\n",
       "    }\n",
       "\n",
       "    .dataframe thead th {\n",
       "        text-align: right;\n",
       "    }\n",
       "</style>\n",
       "<table border=\"1\" class=\"dataframe\">\n",
       "  <thead>\n",
       "    <tr style=\"text-align: right;\">\n",
       "      <th></th>\n",
       "      <th>PassengerId</th>\n",
       "      <th>Survived</th>\n",
       "      <th>Pclass</th>\n",
       "      <th>Name</th>\n",
       "      <th>Sex</th>\n",
       "      <th>Age</th>\n",
       "      <th>SibSp</th>\n",
       "      <th>Parch</th>\n",
       "      <th>Ticket</th>\n",
       "      <th>Fare</th>\n",
       "      <th>Cabin</th>\n",
       "      <th>Embarked</th>\n",
       "    </tr>\n",
       "  </thead>\n",
       "  <tbody>\n",
       "    <tr>\n",
       "      <th>61</th>\n",
       "      <td>62</td>\n",
       "      <td>1</td>\n",
       "      <td>1</td>\n",
       "      <td>Icard, Miss. Amelie</td>\n",
       "      <td>female</td>\n",
       "      <td>38.0</td>\n",
       "      <td>0</td>\n",
       "      <td>0</td>\n",
       "      <td>113572</td>\n",
       "      <td>80.0</td>\n",
       "      <td>B28</td>\n",
       "      <td>NaN</td>\n",
       "    </tr>\n",
       "    <tr>\n",
       "      <th>829</th>\n",
       "      <td>830</td>\n",
       "      <td>1</td>\n",
       "      <td>1</td>\n",
       "      <td>Stone, Mrs. George Nelson (Martha Evelyn)</td>\n",
       "      <td>female</td>\n",
       "      <td>62.0</td>\n",
       "      <td>0</td>\n",
       "      <td>0</td>\n",
       "      <td>113572</td>\n",
       "      <td>80.0</td>\n",
       "      <td>B28</td>\n",
       "      <td>NaN</td>\n",
       "    </tr>\n",
       "  </tbody>\n",
       "</table>\n",
       "</div>"
      ],
      "text/plain": [
       "     PassengerId  Survived  Pclass                                       Name  \\\n",
       "61            62         1       1                        Icard, Miss. Amelie   \n",
       "829          830         1       1  Stone, Mrs. George Nelson (Martha Evelyn)   \n",
       "\n",
       "        Sex   Age  SibSp  Parch  Ticket  Fare Cabin Embarked  \n",
       "61   female  38.0      0      0  113572  80.0   B28      NaN  \n",
       "829  female  62.0      0      0  113572  80.0   B28      NaN  "
      ]
     },
     "metadata": {},
     "output_type": "display_data"
    }
   ],
   "source": [
    "display(df_train[df_train['Ticket']=='113572'])"
   ]
  },
  {
   "cell_type": "code",
   "execution_count": 25,
   "id": "2a5296f9",
   "metadata": {},
   "outputs": [
    {
     "data": {
      "text/plain": [
       "S    127\n",
       "C     85\n",
       "Q      2\n",
       "Name: Embarked, dtype: int64"
      ]
     },
     "metadata": {},
     "output_type": "display_data"
    }
   ],
   "source": [
    "display(df_train[df_train['Pclass']== 1]['Embarked'].value_counts())"
   ]
  },
  {
   "cell_type": "code",
   "execution_count": 26,
   "id": "669e39cf",
   "metadata": {},
   "outputs": [],
   "source": [
    "df_train['Embarked'] = df_train['Embarked'].fillna('hz')"
   ]
  },
  {
   "cell_type": "markdown",
   "id": "19b5a077",
   "metadata": {},
   "source": [
    "##### Age"
   ]
  },
  {
   "cell_type": "code",
   "execution_count": 27,
   "id": "4b96c002",
   "metadata": {},
   "outputs": [],
   "source": [
    "df_train['Age'] = df_train.groupby('Sex')['Age'].transform(lambda x: x.fillna(x.mean()))"
   ]
  },
  {
   "cell_type": "markdown",
   "id": "73dd6b20",
   "metadata": {},
   "source": [
    "#### Cabin"
   ]
  },
  {
   "cell_type": "code",
   "execution_count": 28,
   "id": "02b5efc9",
   "metadata": {
    "scrolled": true
   },
   "outputs": [
    {
     "name": "stdout",
     "output_type": "stream",
     "text": [
      "n    479\n",
      "2    168\n",
      "C     59\n",
      "B     47\n",
      "1     40\n",
      "D     33\n",
      "E     32\n",
      "A     15\n",
      "F     13\n",
      "G      4\n",
      "T      1\n",
      "Name: CabinLatter, dtype: int64\n"
     ]
    }
   ],
   "source": [
    "df_train.loc[df_train['Pclass'] == 1, 'Cabin'] = df_train.loc[df_train['Pclass'] == 1, 'Cabin'].fillna('1clCabin')\n",
    "df_train.loc[df_train['Pclass'] == 2, 'Cabin'] = df_train.loc[df_train['Pclass'] == 2, 'Cabin'].fillna('2clCabin')\n",
    "df_train['Cabin'] = df_train['Cabin'].fillna('not info')\n",
    "df_train['CabinLatter'] = df_train['Cabin'].str[0]\n",
    "print(df_train['CabinLatter'].value_counts())"
   ]
  },
  {
   "cell_type": "markdown",
   "id": "561e34b8",
   "metadata": {},
   "source": [
    "[to the table of contents](#table_of_contents)\n",
    "<a id=\"new_features\"></a>"
   ]
  },
  {
   "cell_type": "markdown",
   "id": "3290d2ac",
   "metadata": {},
   "source": [
    "### New features"
   ]
  },
  {
   "cell_type": "code",
   "execution_count": null,
   "id": "72062906",
   "metadata": {},
   "outputs": [],
   "source": [
    "df_train['HasCabin'] = np.where(df_train['Cabin'].isna(), 'doesnt', 'has cabin')"
   ]
  },
  {
   "cell_type": "code",
   "execution_count": null,
   "id": "a4c221fb",
   "metadata": {},
   "outputs": [],
   "source": [
    "display(df_train['HasCabin'].value_counts())"
   ]
  },
  {
   "cell_type": "code",
   "execution_count": null,
   "id": "dad07e93",
   "metadata": {},
   "outputs": [],
   "source": [
    "f, ax = plt.subplots(figsize=(12, 4))\n",
    "df = df_train.pivot_table(index='Survived', columns='HasCabin', aggfunc='count')['PassengerId']\n",
    "\n",
    "bottom = np.zeros(2)\n",
    "width = 0.5\n",
    "species = ('Dead', 'Survived')\n",
    "for clmn, array in df.items():\n",
    "    p = ax.bar(species, array, width, label=clmn, bottom=bottom)\n",
    "    bottom += array\n",
    "    ax.bar_label(p, label_type='center')\n",
    "\n",
    "ax.set_title(f'Number of survived by HasCabin')\n",
    "ax.legend()\n",
    "\n",
    "plt.show()"
   ]
  },
  {
   "cell_type": "code",
   "execution_count": null,
   "id": "89fe7d13",
   "metadata": {
    "scrolled": true
   },
   "outputs": [],
   "source": [
    "f, ax = plt.subplots(figsize=(12, 6))\n",
    "df = df_train.pivot_table(index='CabinLatter', columns='Pclass', aggfunc='count')['PassengerId']\n",
    "df = df.fillna(0)\n",
    "\n",
    "bottom = np.zeros(len(df))\n",
    "width = 0.5\n",
    "species = df.index.values\n",
    "for clmn, array in df.items():\n",
    "    p = ax.bar(species, array, width, label=clmn, bottom=bottom)\n",
    "    bottom += array\n",
    "    ax.bar_label(p, label_type='center')\n",
    "\n",
    "ax.set_title(f'Number of ')\n",
    "ax.legend()\n",
    "\n",
    "plt.show()"
   ]
  },
  {
   "cell_type": "code",
   "execution_count": null,
   "id": "46753090",
   "metadata": {},
   "outputs": [],
   "source": [
    "display(df)"
   ]
  },
  {
   "cell_type": "code",
   "execution_count": null,
   "id": "617b2ada",
   "metadata": {
    "scrolled": false
   },
   "outputs": [],
   "source": [
    "df_train['CabinLatter'] = df_train['Cabin'].str[0]\n",
    "print(df_train['CabinLatter'].value_counts())"
   ]
  },
  {
   "cell_type": "code",
   "execution_count": null,
   "id": "84bab46e",
   "metadata": {},
   "outputs": [],
   "source": [
    "df_train = df_train[df_train['Fare'] < 300]"
   ]
  },
  {
   "cell_type": "code",
   "execution_count": null,
   "id": "c3829905",
   "metadata": {},
   "outputs": [],
   "source": [
    "plt.figure(figsize=(12, 6))\n",
    "\n",
    "sns.boxplot(data=df_train, x='CabinLatter',y='Fare')\n",
    "\n",
    "plt.title('\"Boxplot\" Ticket coast by cabinletter')\n",
    "plt.xlabel('Cabin letter')\n",
    "plt.ylabel('ticket coast')\n",
    "\n",
    "plt.show()"
   ]
  },
  {
   "cell_type": "code",
   "execution_count": null,
   "id": "64322593",
   "metadata": {},
   "outputs": [],
   "source": [
    "fig, axes = plt.subplots(nrows=1, ncols=2, figsize=(16, 6))\n",
    "for i, feature in enumerate(['SibSp', 'Parch']):\n",
    "    ax = axes.flat[i]\n",
    "    sns.countplot(x=feature, data=df_train, hue=feature, ax=ax)\n",
    "    ax.set_title(f'Density of {feature}')\n",
    "    ax.legend()\n",
    "\n",
    "plt.show()\n"
   ]
  },
  {
   "cell_type": "markdown",
   "id": "8564b9d9",
   "metadata": {},
   "source": [
    "[to the table of contents](#table_of_contents)\n",
    "<a id=\"multicolinear\"></a>"
   ]
  },
  {
   "cell_type": "markdown",
   "id": "764312c7",
   "metadata": {},
   "source": [
    "### Multicollinearity"
   ]
  },
  {
   "cell_type": "code",
   "execution_count": 29,
   "id": "7b29117c",
   "metadata": {
    "scrolled": true
   },
   "outputs": [
    {
     "data": {
      "text/html": [
       "<div>\n",
       "<style scoped>\n",
       "    .dataframe tbody tr th:only-of-type {\n",
       "        vertical-align: middle;\n",
       "    }\n",
       "\n",
       "    .dataframe tbody tr th {\n",
       "        vertical-align: top;\n",
       "    }\n",
       "\n",
       "    .dataframe thead th {\n",
       "        text-align: right;\n",
       "    }\n",
       "</style>\n",
       "<table border=\"1\" class=\"dataframe\">\n",
       "  <thead>\n",
       "    <tr style=\"text-align: right;\">\n",
       "      <th></th>\n",
       "      <th>Survived</th>\n",
       "      <th>Pclass</th>\n",
       "      <th>Sex</th>\n",
       "      <th>Age</th>\n",
       "      <th>SibSp</th>\n",
       "      <th>Parch</th>\n",
       "      <th>Fare</th>\n",
       "      <th>Cabin</th>\n",
       "      <th>Embarked</th>\n",
       "      <th>CabinLatter</th>\n",
       "    </tr>\n",
       "  </thead>\n",
       "  <tbody>\n",
       "    <tr>\n",
       "      <th>Survived</th>\n",
       "      <td>1.000000</td>\n",
       "      <td>0.205464</td>\n",
       "      <td>0.750322</td>\n",
       "      <td>0.206987</td>\n",
       "      <td>0.175652</td>\n",
       "      <td>0.147080</td>\n",
       "      <td>0.265387</td>\n",
       "      <td>0.500411</td>\n",
       "      <td>0.260620</td>\n",
       "      <td>0.379479</td>\n",
       "    </tr>\n",
       "    <tr>\n",
       "      <th>Pclass</th>\n",
       "      <td>0.205464</td>\n",
       "      <td>1.000000</td>\n",
       "      <td>0.078281</td>\n",
       "      <td>0.403983</td>\n",
       "      <td>0.216296</td>\n",
       "      <td>0.033361</td>\n",
       "      <td>0.588122</td>\n",
       "      <td>1.000000</td>\n",
       "      <td>0.275404</td>\n",
       "      <td>0.970850</td>\n",
       "    </tr>\n",
       "    <tr>\n",
       "      <th>Sex</th>\n",
       "      <td>0.750322</td>\n",
       "      <td>0.078281</td>\n",
       "      <td>1.000000</td>\n",
       "      <td>0.139025</td>\n",
       "      <td>0.192974</td>\n",
       "      <td>0.231568</td>\n",
       "      <td>0.176741</td>\n",
       "      <td>0.287474</td>\n",
       "      <td>0.189364</td>\n",
       "      <td>0.204029</td>\n",
       "    </tr>\n",
       "    <tr>\n",
       "      <th>Age</th>\n",
       "      <td>0.206987</td>\n",
       "      <td>0.403983</td>\n",
       "      <td>0.139025</td>\n",
       "      <td>1.000000</td>\n",
       "      <td>0.391505</td>\n",
       "      <td>0.403291</td>\n",
       "      <td>0.185316</td>\n",
       "      <td>0.802617</td>\n",
       "      <td>0.230608</td>\n",
       "      <td>0.334121</td>\n",
       "    </tr>\n",
       "    <tr>\n",
       "      <th>SibSp</th>\n",
       "      <td>0.175652</td>\n",
       "      <td>0.216296</td>\n",
       "      <td>0.192974</td>\n",
       "      <td>0.391505</td>\n",
       "      <td>1.000000</td>\n",
       "      <td>0.589912</td>\n",
       "      <td>0.497583</td>\n",
       "      <td>0.000000</td>\n",
       "      <td>0.089258</td>\n",
       "      <td>0.134419</td>\n",
       "    </tr>\n",
       "    <tr>\n",
       "      <th>Parch</th>\n",
       "      <td>0.147080</td>\n",
       "      <td>0.033361</td>\n",
       "      <td>0.231568</td>\n",
       "      <td>0.403291</td>\n",
       "      <td>0.589912</td>\n",
       "      <td>1.000000</td>\n",
       "      <td>0.337206</td>\n",
       "      <td>0.000000</td>\n",
       "      <td>0.000000</td>\n",
       "      <td>0.077820</td>\n",
       "    </tr>\n",
       "    <tr>\n",
       "      <th>Fare</th>\n",
       "      <td>0.265387</td>\n",
       "      <td>0.588122</td>\n",
       "      <td>0.176741</td>\n",
       "      <td>0.185316</td>\n",
       "      <td>0.497583</td>\n",
       "      <td>0.337206</td>\n",
       "      <td>1.000000</td>\n",
       "      <td>0.975412</td>\n",
       "      <td>0.244597</td>\n",
       "      <td>0.542446</td>\n",
       "    </tr>\n",
       "    <tr>\n",
       "      <th>Cabin</th>\n",
       "      <td>0.500411</td>\n",
       "      <td>1.000000</td>\n",
       "      <td>0.287474</td>\n",
       "      <td>0.802617</td>\n",
       "      <td>0.000000</td>\n",
       "      <td>0.000000</td>\n",
       "      <td>0.975412</td>\n",
       "      <td>1.000000</td>\n",
       "      <td>0.878786</td>\n",
       "      <td>1.000000</td>\n",
       "    </tr>\n",
       "    <tr>\n",
       "      <th>Embarked</th>\n",
       "      <td>0.260620</td>\n",
       "      <td>0.275404</td>\n",
       "      <td>0.189364</td>\n",
       "      <td>0.230608</td>\n",
       "      <td>0.089258</td>\n",
       "      <td>0.000000</td>\n",
       "      <td>0.244597</td>\n",
       "      <td>0.878786</td>\n",
       "      <td>1.000000</td>\n",
       "      <td>0.375755</td>\n",
       "    </tr>\n",
       "    <tr>\n",
       "      <th>CabinLatter</th>\n",
       "      <td>0.379479</td>\n",
       "      <td>0.970850</td>\n",
       "      <td>0.204029</td>\n",
       "      <td>0.334121</td>\n",
       "      <td>0.134419</td>\n",
       "      <td>0.077820</td>\n",
       "      <td>0.542446</td>\n",
       "      <td>1.000000</td>\n",
       "      <td>0.375755</td>\n",
       "      <td>1.000000</td>\n",
       "    </tr>\n",
       "  </tbody>\n",
       "</table>\n",
       "</div>"
      ],
      "text/plain": [
       "             Survived    Pclass       Sex       Age     SibSp     Parch  \\\n",
       "Survived     1.000000  0.205464  0.750322  0.206987  0.175652  0.147080   \n",
       "Pclass       0.205464  1.000000  0.078281  0.403983  0.216296  0.033361   \n",
       "Sex          0.750322  0.078281  1.000000  0.139025  0.192974  0.231568   \n",
       "Age          0.206987  0.403983  0.139025  1.000000  0.391505  0.403291   \n",
       "SibSp        0.175652  0.216296  0.192974  0.391505  1.000000  0.589912   \n",
       "Parch        0.147080  0.033361  0.231568  0.403291  0.589912  1.000000   \n",
       "Fare         0.265387  0.588122  0.176741  0.185316  0.497583  0.337206   \n",
       "Cabin        0.500411  1.000000  0.287474  0.802617  0.000000  0.000000   \n",
       "Embarked     0.260620  0.275404  0.189364  0.230608  0.089258  0.000000   \n",
       "CabinLatter  0.379479  0.970850  0.204029  0.334121  0.134419  0.077820   \n",
       "\n",
       "                 Fare     Cabin  Embarked  CabinLatter  \n",
       "Survived     0.265387  0.500411  0.260620     0.379479  \n",
       "Pclass       0.588122  1.000000  0.275404     0.970850  \n",
       "Sex          0.176741  0.287474  0.189364     0.204029  \n",
       "Age          0.185316  0.802617  0.230608     0.334121  \n",
       "SibSp        0.497583  0.000000  0.089258     0.134419  \n",
       "Parch        0.337206  0.000000  0.000000     0.077820  \n",
       "Fare         1.000000  0.975412  0.244597     0.542446  \n",
       "Cabin        0.975412  1.000000  0.878786     1.000000  \n",
       "Embarked     0.244597  0.878786  1.000000     0.375755  \n",
       "CabinLatter  0.542446  1.000000  0.375755     1.000000  "
      ]
     },
     "metadata": {},
     "output_type": "display_data"
    }
   ],
   "source": [
    "matrix = phik_matrix(df_train.drop(['PassengerId', 'Name', 'Ticket'], axis=1), interval_cols = ['Age', 'Fare'])\n",
    "display(matrix)"
   ]
  },
  {
   "cell_type": "code",
   "execution_count": 30,
   "id": "378b4aee",
   "metadata": {},
   "outputs": [
    {
     "data": {
      "image/png": "[encoded data removed]",
      "text/plain": [
       "<Figure size 648x576 with 2 Axes>"
      ]
     },
     "metadata": {
      "needs_background": "light"
     },
     "output_type": "display_data"
    }
   ],
   "source": [
    "# Построим график:\n",
    "\n",
    "plot_correlation_matrix(np.array(matrix)\n",
    "                        , x_labels=matrix.columns\n",
    "                        , y_labels=matrix.index\n",
    "                        , vmin=0\n",
    "                        , vmax=1\n",
    "                        , color_map=\"Greens\"\n",
    "#                         , title=r\"correlation $\\phi_K$\"\n",
    "                        , fontsize_factor=1.5\n",
    "                        , figsize=(9, 8))\n",
    "plt.title(r\"correlation $\\phi_K$\", size=23)\n",
    "plt.tight_layout()"
   ]
  },
  {
   "cell_type": "markdown",
   "id": "7be1c992",
   "metadata": {},
   "source": [
    "[to the table of contents](#table_of_contents)\n",
    "<a id=\"conclusions\"></a>"
   ]
  },
  {
   "cell_type": "markdown",
   "id": "5a045a7f",
   "metadata": {},
   "source": [
    "### Conclusions"
   ]
  },
  {
   "cell_type": "markdown",
   "id": "3e5a0ea4",
   "metadata": {},
   "source": []
  },
  {
   "cell_type": "markdown",
   "id": "7178051c",
   "metadata": {},
   "source": [
    "[to the table of contents](#table_of_contents)\n",
    "<a id=\"models\"></a>"
   ]
  },
  {
   "cell_type": "markdown",
   "id": "782812e2",
   "metadata": {},
   "source": [
    "## Models"
   ]
  },
  {
   "cell_type": "code",
   "execution_count": null,
   "id": "4d5784b9",
   "metadata": {},
   "outputs": [],
   "source": [
    "RANDOM_STATE = 232111"
   ]
  },
  {
   "cell_type": "markdown",
   "id": "2ef48eca",
   "metadata": {},
   "source": [
    "[to the table of contents](#table_of_contents)\n",
    "<a id=\"features_and_target\"></a>"
   ]
  },
  {
   "cell_type": "markdown",
   "id": "151f50da",
   "metadata": {},
   "source": [
    "### Features and target"
   ]
  },
  {
   "cell_type": "code",
   "execution_count": null,
   "id": "b126eb11",
   "metadata": {},
   "outputs": [],
   "source": [
    "features = df_train.drop(['PassengerId', 'Survived', 'Name', 'Ticket'], axis=1)\n",
    "target = df_train['Survived']\n",
    "\n",
    "\n",
    "print(features.shape)\n",
    "print(target.shape)"
   ]
  },
  {
   "cell_type": "markdown",
   "id": "521a5899",
   "metadata": {},
   "source": [
    "[to the table of contents](#table_of_contents)\n",
    "<a id=\"lr\"></a>"
   ]
  },
  {
   "cell_type": "markdown",
   "id": "922ff4bf",
   "metadata": {},
   "source": [
    "### Logistic regressor"
   ]
  },
  {
   "cell_type": "code",
   "execution_count": null,
   "id": "1ee25d88",
   "metadata": {},
   "outputs": [],
   "source": [
    "numeric_columns = ['Age', 'SibSp', 'Parch', 'Fare']\n",
    "categ_columns = list(features.columns)\n",
    "for column in numeric_columns:\n",
    "    categ_columns.remove(column)\n",
    "\n",
    "print('Numeric params:')\n",
    "print(*numeric_columns)\n",
    "print('\\n')\n",
    "print('Categorial params:')\n",
    "print(*categ_columns)"
   ]
  },
  {
   "cell_type": "code",
   "execution_count": null,
   "id": "b32c10d4",
   "metadata": {},
   "outputs": [],
   "source": [
    "%%time\n",
    "column_trans = ColumnTransformer([\n",
    "    ('numeric', StandardScaler(), numeric_columns),\n",
    "    ('categorial', OneHotEncoder(drop='first'), categ_columns)\n",
    "])\n",
    "\n",
    "\n",
    "# Создание пайплайна для последовательного выполнения препроцессора и модели\n",
    "pipeline = Pipeline([\n",
    "    ('column_trans', column_trans),\n",
    "    ('logreg', LogisticRegression(random_state = RANDOM_STATE))\n",
    "])\n",
    "\n",
    "# Определение сетки параметров для GridSearchCV\n",
    "param_grid = {\n",
    "    'logreg__C': [0.1, 1, 10]\n",
    "}\n",
    "\n",
    "# Создание объекта GridSearchCV\n",
    "gs_logreg = GridSearchCV(pipeline, param_grid, scoring='roc_auc', cv=5, n_jobs=-1, verbose=False)\n",
    "\n",
    "# Обучаем модель на тренировочных данных\n",
    "gs_logreg.fit(train_features, train_target)\n",
    "\n",
    "# # Лучшие параметры модели\n",
    "# best_params = gs_logreg.best_params_\n",
    "\n",
    "# # Лучшая модель\n",
    "# best_model = gs_logreg.best_estimator_\n",
    "\n",
    "\n",
    "# Выводим наилучшие параметры и оценку метрики \n",
    "print(\"Best parameters: \", gs_logreg.best_params_)\n",
    "print(\"Best AUC_ROC: \", gs_logreg.best_score_)"
   ]
  },
  {
   "cell_type": "markdown",
   "id": "91a67aa2",
   "metadata": {},
   "source": []
  },
  {
   "cell_type": "markdown",
   "id": "66c4014b",
   "metadata": {},
   "source": []
  }
 ],
 "metadata": {
  "kernelspec": {
   "display_name": "Python 3 (ipykernel)",
   "language": "python",
   "name": "python3"
  },
  "language_info": {
   "codemirror_mode": {
    "name": "ipython",
    "version": 3
   },
   "file_extension": ".py",
   "mimetype": "text/x-python",
   "name": "python",
   "nbconvert_exporter": "python",
   "pygments_lexer": "ipython3",
   "version": "3.9.7"
  }
 },
 "nbformat": 4,
 "nbformat_minor": 5
}
