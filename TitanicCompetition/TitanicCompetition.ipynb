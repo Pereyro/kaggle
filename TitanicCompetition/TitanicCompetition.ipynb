{
 "cells": [
  {
   "cell_type": "markdown",
   "id": "8609feed",
   "metadata": {},
   "source": [
    "# Titanic competition"
   ]
  },
  {
   "cell_type": "markdown",
   "id": "802613ef",
   "metadata": {},
   "source": [
    "<a id=\"table_of_contents\"></a>\n",
    "## Table of contents"
   ]
  },
  {
   "cell_type": "markdown",
   "id": "4fa52b11",
   "metadata": {},
   "source": [
    "* [Titanic competition](#)\n",
    "    * [Project overview](#project_overview)\n",
    "        * [Short story](#)\n",
    "        * [Goal](#)\n",
    "        * [Data description](#)\n",
    "    * [Introduce with data](#introduce)\n",
    "        * [Import libs](#import_libs)\n",
    "        * [Import data and first impression](#import_data)\n",
    "        * [Brief conclusions](#brief_conclusions)\n",
    "    * [Data preparetion](#data_preparation)"
   ]
  },
  {
   "cell_type": "markdown",
   "id": "cd7a5a0e",
   "metadata": {},
   "source": [
    "<a id=\"project_overview\"></a>\n",
    "## Project overview"
   ]
  },
  {
   "cell_type": "markdown",
   "id": "fdb190d7",
   "metadata": {},
   "source": [
    "The competition is simple: use machine learning to create a model that predicts which passengers survived the Titanic shipwreck."
   ]
  },
  {
   "cell_type": "markdown",
   "id": "5c02b00d",
   "metadata": {},
   "source": [
    "<a id=\"data_description\"></a>\n",
    "### Data description"
   ]
  },
  {
   "cell_type": "markdown",
   "id": "48bd0c61",
   "metadata": {},
   "source": [
    "#### Variables\n",
    "\n",
    "\n",
    "|# | Variable | Definition | Key |\n",
    "|:-|:---------|:-----------|:----|\t\t\n",
    "|1 | survival |\tSurvival   | 0 = No, 1 = Yes |\n",
    "|2 | pclass |\tTicket class |\t1 = 1st, 2 = 2nd, 3 = 3rd |\n",
    "|3 | sex |\tSex | |\t\n",
    "|4 | Age |\tAge in years | | \t\n",
    "|5 | sibsp | # of siblings / spouses aboard the Titanic | |\n",
    "|6 | parch | # of parents / children aboard the Titanic | | \t\n",
    "|7 | ticket | Ticket number | |\n",
    "|8 | fare | Passenger fare | |\n",
    "|9 | cabin | Cabin number | |\n",
    "|10 | embarked | Port of Embarkation | C = Cherbourg, Q = Queenstown, S = Southampton |\n"
   ]
  },
  {
   "cell_type": "markdown",
   "id": "10208e2a",
   "metadata": {},
   "source": [
    "#### Variable Notes\n",
    "\n",
    "    pclass: A proxy for socio-economic status (SES)\n",
    "    1st = Upper\n",
    "    2nd = Middle\n",
    "    3rd = Lower\n",
    "\n",
    "    age: Age is fractional if less than 1. If the age is estimated, is it in the form of xx.5\n",
    "\n",
    "    sibsp: The dataset defines family relations in this way...\n",
    "    Sibling = brother, sister, stepbrother, stepsister\n",
    "    Spouse = husband, wife (mistresses and fiancés were ignored)\n",
    "\n",
    "    parch: The dataset defines family relations in this way...\n",
    "    Parent = mother, father\n",
    "    Child = daughter, son, stepdaughter, stepson\n",
    "    Some children travelled only with a nanny, therefore parch=0 for them."
   ]
  },
  {
   "cell_type": "markdown",
   "id": "8eb6ec8d",
   "metadata": {},
   "source": [
    "[to the table of contents](#table_of_contents)"
   ]
  },
  {
   "cell_type": "markdown",
   "id": "05aacbc0",
   "metadata": {},
   "source": [
    "\n",
    "<a id=\"introduce\"></a>\n",
    "## Introduce with data"
   ]
  },
  {
   "cell_type": "markdown",
   "id": "54bad16c",
   "metadata": {},
   "source": [
    "<a id=\"import_libs\"></a>\n",
    "### Import libs"
   ]
  },
  {
   "cell_type": "code",
   "execution_count": 1,
   "id": "09dfc600",
   "metadata": {},
   "outputs": [],
   "source": [
    "# This Python 3 environment comes with many helpful analytics libraries installed\n",
    "# It is defined by the kaggle/python Docker image: https://github.com/kaggle/docker-python\n",
    "# For example, here's several helpful packages to load\n",
    "import os\n",
    "import numpy as np # linear algebra\n",
    "import pandas as pd # data processing, CSV file I/O (e.g. pd.read_csv)\n",
    "\n",
    "from numpy.random import RandomState\n",
    "\n",
    "import matplotlib.pyplot as plt\n",
    "import seaborn as sns\n",
    "\n",
    "# Input data files are available in the read-only \"../input/\" directory\n",
    "# For example, running this (by clicking run or pressing Shift+Enter) will list all files under the input directory\n",
    "# You can write up to 20GB to the current directory (/kaggle/working/) that gets preserved as output when you create a version using \"Save & Run All\" \n",
    "# You can also write temporary files to /kaggle/temp/, but they won't be saved outside of the current session"
   ]
  },
  {
   "cell_type": "markdown",
   "id": "f04c4b12",
   "metadata": {},
   "source": [
    "<a id=\"import_data\"></a>\n",
    "### Import data and first impression"
   ]
  },
  {
   "cell_type": "markdown",
   "id": "c9adbafb",
   "metadata": {},
   "source": []
  },
  {
   "cell_type": "code",
   "execution_count": 2,
   "id": "65849363",
   "metadata": {
    "scrolled": false
   },
   "outputs": [
    {
     "name": "stdout",
     "output_type": "stream",
     "text": [
      "../datasets/titanic/test.csv\n",
      "../datasets/titanic/train.csv\n",
      "../datasets/titanic/gender_submission.csv\n"
     ]
    }
   ],
   "source": [
    "# let's check which files do we have\n",
    "datasets_dir = '../datasets/titanic'\n",
    "\n",
    "if not os.path.isdir(datasets_dir):\n",
    "    datasets_dir = '/kaggle/input'\n",
    "    \n",
    "for dirname, _, filenames in os.walk(datasets_dir):\n",
    "    for filename in filenames:\n",
    "        print(os.path.join(dirname, filename))"
   ]
  },
  {
   "cell_type": "markdown",
   "id": "ef85be19",
   "metadata": {},
   "source": [
    "#### Train dataset"
   ]
  },
  {
   "cell_type": "code",
   "execution_count": 3,
   "id": "31f0261c",
   "metadata": {},
   "outputs": [
    {
     "name": "stdout",
     "output_type": "stream",
     "text": [
      "Shape of the train dataset: (891, 12)\n",
      "\n",
      "First five rows of the train dataset:\n"
     ]
    },
    {
     "data": {
      "text/html": [
       "<div>\n",
       "<style scoped>\n",
       "    .dataframe tbody tr th:only-of-type {\n",
       "        vertical-align: middle;\n",
       "    }\n",
       "\n",
       "    .dataframe tbody tr th {\n",
       "        vertical-align: top;\n",
       "    }\n",
       "\n",
       "    .dataframe thead th {\n",
       "        text-align: right;\n",
       "    }\n",
       "</style>\n",
       "<table border=\"1\" class=\"dataframe\">\n",
       "  <thead>\n",
       "    <tr style=\"text-align: right;\">\n",
       "      <th></th>\n",
       "      <th>PassengerId</th>\n",
       "      <th>Survived</th>\n",
       "      <th>Pclass</th>\n",
       "      <th>Name</th>\n",
       "      <th>Sex</th>\n",
       "      <th>Age</th>\n",
       "      <th>SibSp</th>\n",
       "      <th>Parch</th>\n",
       "      <th>Ticket</th>\n",
       "      <th>Fare</th>\n",
       "      <th>Cabin</th>\n",
       "      <th>Embarked</th>\n",
       "    </tr>\n",
       "  </thead>\n",
       "  <tbody>\n",
       "    <tr>\n",
       "      <th>0</th>\n",
       "      <td>1</td>\n",
       "      <td>0</td>\n",
       "      <td>3</td>\n",
       "      <td>Braund, Mr. Owen Harris</td>\n",
       "      <td>male</td>\n",
       "      <td>22.0</td>\n",
       "      <td>1</td>\n",
       "      <td>0</td>\n",
       "      <td>A/5 21171</td>\n",
       "      <td>7.2500</td>\n",
       "      <td>NaN</td>\n",
       "      <td>S</td>\n",
       "    </tr>\n",
       "    <tr>\n",
       "      <th>1</th>\n",
       "      <td>2</td>\n",
       "      <td>1</td>\n",
       "      <td>1</td>\n",
       "      <td>Cumings, Mrs. John Bradley (Florence Briggs Th...</td>\n",
       "      <td>female</td>\n",
       "      <td>38.0</td>\n",
       "      <td>1</td>\n",
       "      <td>0</td>\n",
       "      <td>PC 17599</td>\n",
       "      <td>71.2833</td>\n",
       "      <td>C85</td>\n",
       "      <td>C</td>\n",
       "    </tr>\n",
       "    <tr>\n",
       "      <th>2</th>\n",
       "      <td>3</td>\n",
       "      <td>1</td>\n",
       "      <td>3</td>\n",
       "      <td>Heikkinen, Miss. Laina</td>\n",
       "      <td>female</td>\n",
       "      <td>26.0</td>\n",
       "      <td>0</td>\n",
       "      <td>0</td>\n",
       "      <td>STON/O2. 3101282</td>\n",
       "      <td>7.9250</td>\n",
       "      <td>NaN</td>\n",
       "      <td>S</td>\n",
       "    </tr>\n",
       "    <tr>\n",
       "      <th>3</th>\n",
       "      <td>4</td>\n",
       "      <td>1</td>\n",
       "      <td>1</td>\n",
       "      <td>Futrelle, Mrs. Jacques Heath (Lily May Peel)</td>\n",
       "      <td>female</td>\n",
       "      <td>35.0</td>\n",
       "      <td>1</td>\n",
       "      <td>0</td>\n",
       "      <td>113803</td>\n",
       "      <td>53.1000</td>\n",
       "      <td>C123</td>\n",
       "      <td>S</td>\n",
       "    </tr>\n",
       "    <tr>\n",
       "      <th>4</th>\n",
       "      <td>5</td>\n",
       "      <td>0</td>\n",
       "      <td>3</td>\n",
       "      <td>Allen, Mr. William Henry</td>\n",
       "      <td>male</td>\n",
       "      <td>35.0</td>\n",
       "      <td>0</td>\n",
       "      <td>0</td>\n",
       "      <td>373450</td>\n",
       "      <td>8.0500</td>\n",
       "      <td>NaN</td>\n",
       "      <td>S</td>\n",
       "    </tr>\n",
       "  </tbody>\n",
       "</table>\n",
       "</div>"
      ],
      "text/plain": [
       "   PassengerId  Survived  Pclass  \\\n",
       "0            1         0       3   \n",
       "1            2         1       1   \n",
       "2            3         1       3   \n",
       "3            4         1       1   \n",
       "4            5         0       3   \n",
       "\n",
       "                                                Name     Sex   Age  SibSp  \\\n",
       "0                            Braund, Mr. Owen Harris    male  22.0      1   \n",
       "1  Cumings, Mrs. John Bradley (Florence Briggs Th...  female  38.0      1   \n",
       "2                             Heikkinen, Miss. Laina  female  26.0      0   \n",
       "3       Futrelle, Mrs. Jacques Heath (Lily May Peel)  female  35.0      1   \n",
       "4                           Allen, Mr. William Henry    male  35.0      0   \n",
       "\n",
       "   Parch            Ticket     Fare Cabin Embarked  \n",
       "0      0         A/5 21171   7.2500   NaN        S  \n",
       "1      0          PC 17599  71.2833   C85        C  \n",
       "2      0  STON/O2. 3101282   7.9250   NaN        S  \n",
       "3      0            113803  53.1000  C123        S  \n",
       "4      0            373450   8.0500   NaN        S  "
      ]
     },
     "metadata": {},
     "output_type": "display_data"
    }
   ],
   "source": [
    "# upload train dataset\n",
    "df_train = pd.read_csv(os.path.join(datasets_dir, 'train.csv'))\n",
    "\n",
    "# check shape of the dataset\n",
    "print('Shape of the train dataset:', df_train.shape, end='\\n\\n')\n",
    "\n",
    "# watch first 5 rows\n",
    "print('First five rows of the train dataset:')\n",
    "display(df_train.head())"
   ]
  },
  {
   "cell_type": "code",
   "execution_count": 4,
   "id": "38fc4828",
   "metadata": {},
   "outputs": [
    {
     "name": "stdout",
     "output_type": "stream",
     "text": [
      "<class 'pandas.core.frame.DataFrame'>\n",
      "RangeIndex: 891 entries, 0 to 890\n",
      "Data columns (total 12 columns):\n",
      " #   Column       Non-Null Count  Dtype  \n",
      "---  ------       --------------  -----  \n",
      " 0   PassengerId  891 non-null    int64  \n",
      " 1   Survived     891 non-null    int64  \n",
      " 2   Pclass       891 non-null    int64  \n",
      " 3   Name         891 non-null    object \n",
      " 4   Sex          891 non-null    object \n",
      " 5   Age          714 non-null    float64\n",
      " 6   SibSp        891 non-null    int64  \n",
      " 7   Parch        891 non-null    int64  \n",
      " 8   Ticket       891 non-null    object \n",
      " 9   Fare         891 non-null    float64\n",
      " 10  Cabin        204 non-null    object \n",
      " 11  Embarked     889 non-null    object \n",
      "dtypes: float64(2), int64(5), object(5)\n",
      "memory usage: 83.7+ KB\n"
     ]
    }
   ],
   "source": [
    "# train dataset info\n",
    "df_train.info()"
   ]
  },
  {
   "cell_type": "markdown",
   "id": "63147136",
   "metadata": {},
   "source": [
    "#### Test dataset"
   ]
  },
  {
   "cell_type": "code",
   "execution_count": 5,
   "id": "01789418",
   "metadata": {
    "scrolled": true
   },
   "outputs": [
    {
     "name": "stdout",
     "output_type": "stream",
     "text": [
      "Shape of the test dataset: (418, 11)\n",
      "\n",
      "First five rows in the test dataset:\n"
     ]
    },
    {
     "data": {
      "text/html": [
       "<div>\n",
       "<style scoped>\n",
       "    .dataframe tbody tr th:only-of-type {\n",
       "        vertical-align: middle;\n",
       "    }\n",
       "\n",
       "    .dataframe tbody tr th {\n",
       "        vertical-align: top;\n",
       "    }\n",
       "\n",
       "    .dataframe thead th {\n",
       "        text-align: right;\n",
       "    }\n",
       "</style>\n",
       "<table border=\"1\" class=\"dataframe\">\n",
       "  <thead>\n",
       "    <tr style=\"text-align: right;\">\n",
       "      <th></th>\n",
       "      <th>PassengerId</th>\n",
       "      <th>Pclass</th>\n",
       "      <th>Name</th>\n",
       "      <th>Sex</th>\n",
       "      <th>Age</th>\n",
       "      <th>SibSp</th>\n",
       "      <th>Parch</th>\n",
       "      <th>Ticket</th>\n",
       "      <th>Fare</th>\n",
       "      <th>Cabin</th>\n",
       "      <th>Embarked</th>\n",
       "    </tr>\n",
       "  </thead>\n",
       "  <tbody>\n",
       "    <tr>\n",
       "      <th>0</th>\n",
       "      <td>892</td>\n",
       "      <td>3</td>\n",
       "      <td>Kelly, Mr. James</td>\n",
       "      <td>male</td>\n",
       "      <td>34.5</td>\n",
       "      <td>0</td>\n",
       "      <td>0</td>\n",
       "      <td>330911</td>\n",
       "      <td>7.8292</td>\n",
       "      <td>NaN</td>\n",
       "      <td>Q</td>\n",
       "    </tr>\n",
       "    <tr>\n",
       "      <th>1</th>\n",
       "      <td>893</td>\n",
       "      <td>3</td>\n",
       "      <td>Wilkes, Mrs. James (Ellen Needs)</td>\n",
       "      <td>female</td>\n",
       "      <td>47.0</td>\n",
       "      <td>1</td>\n",
       "      <td>0</td>\n",
       "      <td>363272</td>\n",
       "      <td>7.0000</td>\n",
       "      <td>NaN</td>\n",
       "      <td>S</td>\n",
       "    </tr>\n",
       "    <tr>\n",
       "      <th>2</th>\n",
       "      <td>894</td>\n",
       "      <td>2</td>\n",
       "      <td>Myles, Mr. Thomas Francis</td>\n",
       "      <td>male</td>\n",
       "      <td>62.0</td>\n",
       "      <td>0</td>\n",
       "      <td>0</td>\n",
       "      <td>240276</td>\n",
       "      <td>9.6875</td>\n",
       "      <td>NaN</td>\n",
       "      <td>Q</td>\n",
       "    </tr>\n",
       "    <tr>\n",
       "      <th>3</th>\n",
       "      <td>895</td>\n",
       "      <td>3</td>\n",
       "      <td>Wirz, Mr. Albert</td>\n",
       "      <td>male</td>\n",
       "      <td>27.0</td>\n",
       "      <td>0</td>\n",
       "      <td>0</td>\n",
       "      <td>315154</td>\n",
       "      <td>8.6625</td>\n",
       "      <td>NaN</td>\n",
       "      <td>S</td>\n",
       "    </tr>\n",
       "    <tr>\n",
       "      <th>4</th>\n",
       "      <td>896</td>\n",
       "      <td>3</td>\n",
       "      <td>Hirvonen, Mrs. Alexander (Helga E Lindqvist)</td>\n",
       "      <td>female</td>\n",
       "      <td>22.0</td>\n",
       "      <td>1</td>\n",
       "      <td>1</td>\n",
       "      <td>3101298</td>\n",
       "      <td>12.2875</td>\n",
       "      <td>NaN</td>\n",
       "      <td>S</td>\n",
       "    </tr>\n",
       "  </tbody>\n",
       "</table>\n",
       "</div>"
      ],
      "text/plain": [
       "   PassengerId  Pclass                                          Name     Sex  \\\n",
       "0          892       3                              Kelly, Mr. James    male   \n",
       "1          893       3              Wilkes, Mrs. James (Ellen Needs)  female   \n",
       "2          894       2                     Myles, Mr. Thomas Francis    male   \n",
       "3          895       3                              Wirz, Mr. Albert    male   \n",
       "4          896       3  Hirvonen, Mrs. Alexander (Helga E Lindqvist)  female   \n",
       "\n",
       "    Age  SibSp  Parch   Ticket     Fare Cabin Embarked  \n",
       "0  34.5      0      0   330911   7.8292   NaN        Q  \n",
       "1  47.0      1      0   363272   7.0000   NaN        S  \n",
       "2  62.0      0      0   240276   9.6875   NaN        Q  \n",
       "3  27.0      0      0   315154   8.6625   NaN        S  \n",
       "4  22.0      1      1  3101298  12.2875   NaN        S  "
      ]
     },
     "metadata": {},
     "output_type": "display_data"
    }
   ],
   "source": [
    "# upload gender test dataset\n",
    "df_test = pd.read_csv(os.path.join(datasets_dir, 'test.csv'))\n",
    "\n",
    "# check shape of the dataset\n",
    "print('Shape of the test dataset:', df_test.shape, end='\\n\\n')\n",
    "\n",
    "# watch first 5 rows in it\n",
    "print('First five rows in the test dataset:')\n",
    "display(df_test.head())"
   ]
  },
  {
   "cell_type": "code",
   "execution_count": 6,
   "id": "ade3d994",
   "metadata": {},
   "outputs": [
    {
     "name": "stdout",
     "output_type": "stream",
     "text": [
      "<class 'pandas.core.frame.DataFrame'>\n",
      "RangeIndex: 418 entries, 0 to 417\n",
      "Data columns (total 11 columns):\n",
      " #   Column       Non-Null Count  Dtype  \n",
      "---  ------       --------------  -----  \n",
      " 0   PassengerId  418 non-null    int64  \n",
      " 1   Pclass       418 non-null    int64  \n",
      " 2   Name         418 non-null    object \n",
      " 3   Sex          418 non-null    object \n",
      " 4   Age          332 non-null    float64\n",
      " 5   SibSp        418 non-null    int64  \n",
      " 6   Parch        418 non-null    int64  \n",
      " 7   Ticket       418 non-null    object \n",
      " 8   Fare         417 non-null    float64\n",
      " 9   Cabin        91 non-null     object \n",
      " 10  Embarked     418 non-null    object \n",
      "dtypes: float64(2), int64(4), object(5)\n",
      "memory usage: 36.0+ KB\n"
     ]
    }
   ],
   "source": [
    "# test dataset info\n",
    "df_test.info()"
   ]
  },
  {
   "cell_type": "markdown",
   "id": "d83ccb2a",
   "metadata": {},
   "source": [
    "#### Gender submission"
   ]
  },
  {
   "cell_type": "code",
   "execution_count": 7,
   "id": "02567f17",
   "metadata": {},
   "outputs": [
    {
     "name": "stdout",
     "output_type": "stream",
     "text": [
      "Shape of the gender_submission dataset: (418, 2)\n",
      "\n",
      "First five rows in the gender submission dataset:\n"
     ]
    },
    {
     "data": {
      "text/html": [
       "<div>\n",
       "<style scoped>\n",
       "    .dataframe tbody tr th:only-of-type {\n",
       "        vertical-align: middle;\n",
       "    }\n",
       "\n",
       "    .dataframe tbody tr th {\n",
       "        vertical-align: top;\n",
       "    }\n",
       "\n",
       "    .dataframe thead th {\n",
       "        text-align: right;\n",
       "    }\n",
       "</style>\n",
       "<table border=\"1\" class=\"dataframe\">\n",
       "  <thead>\n",
       "    <tr style=\"text-align: right;\">\n",
       "      <th></th>\n",
       "      <th>PassengerId</th>\n",
       "      <th>Survived</th>\n",
       "    </tr>\n",
       "  </thead>\n",
       "  <tbody>\n",
       "    <tr>\n",
       "      <th>0</th>\n",
       "      <td>892</td>\n",
       "      <td>0</td>\n",
       "    </tr>\n",
       "    <tr>\n",
       "      <th>1</th>\n",
       "      <td>893</td>\n",
       "      <td>1</td>\n",
       "    </tr>\n",
       "    <tr>\n",
       "      <th>2</th>\n",
       "      <td>894</td>\n",
       "      <td>0</td>\n",
       "    </tr>\n",
       "    <tr>\n",
       "      <th>3</th>\n",
       "      <td>895</td>\n",
       "      <td>0</td>\n",
       "    </tr>\n",
       "    <tr>\n",
       "      <th>4</th>\n",
       "      <td>896</td>\n",
       "      <td>1</td>\n",
       "    </tr>\n",
       "  </tbody>\n",
       "</table>\n",
       "</div>"
      ],
      "text/plain": [
       "   PassengerId  Survived\n",
       "0          892         0\n",
       "1          893         1\n",
       "2          894         0\n",
       "3          895         0\n",
       "4          896         1"
      ]
     },
     "metadata": {},
     "output_type": "display_data"
    }
   ],
   "source": [
    "# upload gender submission dataset\n",
    "df_gender = pd.read_csv(os.path.join(datasets_dir, 'gender_submission.csv'))\n",
    "\n",
    "# check shape of the dataset\n",
    "print('Shape of the gender_submission dataset:', df_gender.shape, end='\\n\\n')\n",
    "\n",
    "# watch first 5 rows in it\n",
    "print('First five rows in the gender submission dataset:')\n",
    "display(df_gender.head())"
   ]
  },
  {
   "cell_type": "markdown",
   "id": "3e59b5eb",
   "metadata": {},
   "source": [
    "<a id=\"brief_conclusions\"></a>\n",
    "### Brief conclusions"
   ]
  },
  {
   "cell_type": "markdown",
   "id": "316f25b0",
   "metadata": {},
   "source": [
    "So..."
   ]
  },
  {
   "cell_type": "markdown",
   "id": "b60c9b1d",
   "metadata": {},
   "source": [
    "[to the table of contents](#table_of_contents)"
   ]
  },
  {
   "cell_type": "markdown",
   "id": "1b98daf6",
   "metadata": {},
   "source": [
    "<a id=\"data_preparation\"></a>\n",
    "## Data preparation"
   ]
  },
  {
   "cell_type": "markdown",
   "id": "2747e30f",
   "metadata": {},
   "source": [
    "### Target feature"
   ]
  },
  {
   "cell_type": "code",
   "execution_count": 8,
   "id": "d95d2eb9",
   "metadata": {
    "scrolled": true
   },
   "outputs": [
    {
     "data": {
      "image/png": "[encoded data removed]",
      "text/plain": [
       "<Figure size 288x360 with 1 Axes>"
      ]
     },
     "metadata": {
      "needs_background": "light"
     },
     "output_type": "display_data"
    }
   ],
   "source": [
    "# Let's compare the number of survivos and the number of deceased on the graph:\n",
    "plt.figure(figsize=(4,5))\n",
    "sns.countplot(x='Survived', data=df_train, hue='Survived')\n",
    "plt.title('Survived or not survived')\n",
    "plt.show()"
   ]
  },
  {
   "cell_type": "markdown",
   "id": "b4a93830",
   "metadata": {},
   "source": [
    "Unfortunately, the number of survivors is significantly less than the number of deceased."
   ]
  },
  {
   "cell_type": "markdown",
   "id": "c3bea9bf",
   "metadata": {},
   "source": [
    "### Duplicates\n",
    "Let's check are there duplicates or not?"
   ]
  },
  {
   "cell_type": "code",
   "execution_count": 9,
   "id": "f8fa6707",
   "metadata": {
    "scrolled": true
   },
   "outputs": [
    {
     "name": "stdout",
     "output_type": "stream",
     "text": [
      "0\n"
     ]
    }
   ],
   "source": [
    "print(df_train.duplicated().sum())"
   ]
  },
  {
   "cell_type": "markdown",
   "id": "f5b62fe2",
   "metadata": {},
   "source": [
    "#### Hidden duplicates"
   ]
  },
  {
   "cell_type": "markdown",
   "id": "e8955d66",
   "metadata": {},
   "source": [
    "There is not any hidden duplicate"
   ]
  },
  {
   "cell_type": "markdown",
   "id": "25a7eed6",
   "metadata": {},
   "source": [
    "### Categorial features"
   ]
  },
  {
   "cell_type": "code",
   "execution_count": 42,
   "id": "3a96cd5b",
   "metadata": {},
   "outputs": [],
   "source": [
    "cat_features = ['Pclass', 'Sex', 'Embarked']"
   ]
  },
  {
   "cell_type": "code",
   "execution_count": 58,
   "id": "f545514f",
   "metadata": {},
   "outputs": [
    {
     "data": {
      "text/html": [
       "<div>\n",
       "<style scoped>\n",
       "    .dataframe tbody tr th:only-of-type {\n",
       "        vertical-align: middle;\n",
       "    }\n",
       "\n",
       "    .dataframe tbody tr th {\n",
       "        vertical-align: top;\n",
       "    }\n",
       "\n",
       "    .dataframe thead th {\n",
       "        text-align: right;\n",
       "    }\n",
       "</style>\n",
       "<table border=\"1\" class=\"dataframe\">\n",
       "  <thead>\n",
       "    <tr style=\"text-align: right;\">\n",
       "      <th></th>\n",
       "      <th>Survived</th>\n",
       "      <th>Pclass</th>\n",
       "      <th>Sex</th>\n",
       "    </tr>\n",
       "  </thead>\n",
       "  <tbody>\n",
       "    <tr>\n",
       "      <th>0</th>\n",
       "      <td>0</td>\n",
       "      <td>3</td>\n",
       "      <td>male</td>\n",
       "    </tr>\n",
       "    <tr>\n",
       "      <th>1</th>\n",
       "      <td>1</td>\n",
       "      <td>1</td>\n",
       "      <td>female</td>\n",
       "    </tr>\n",
       "    <tr>\n",
       "      <th>2</th>\n",
       "      <td>1</td>\n",
       "      <td>3</td>\n",
       "      <td>female</td>\n",
       "    </tr>\n",
       "    <tr>\n",
       "      <th>3</th>\n",
       "      <td>1</td>\n",
       "      <td>1</td>\n",
       "      <td>female</td>\n",
       "    </tr>\n",
       "    <tr>\n",
       "      <th>4</th>\n",
       "      <td>0</td>\n",
       "      <td>3</td>\n",
       "      <td>male</td>\n",
       "    </tr>\n",
       "  </tbody>\n",
       "</table>\n",
       "</div>"
      ],
      "text/plain": [
       "   Survived  Pclass     Sex\n",
       "0         0       3    male\n",
       "1         1       1  female\n",
       "2         1       3  female\n",
       "3         1       1  female\n",
       "4         0       3    male"
      ]
     },
     "metadata": {},
     "output_type": "display_data"
    }
   ],
   "source": [
    "df = df_train[['Survived', 'Pclass', 'Sex']]\n",
    "display(df.head())"
   ]
  },
  {
   "cell_type": "code",
   "execution_count": 59,
   "id": "d698a826",
   "metadata": {},
   "outputs": [
    {
     "data": {
      "text/html": [
       "<div>\n",
       "<style scoped>\n",
       "    .dataframe tbody tr th:only-of-type {\n",
       "        vertical-align: middle;\n",
       "    }\n",
       "\n",
       "    .dataframe tbody tr th {\n",
       "        vertical-align: top;\n",
       "    }\n",
       "\n",
       "    .dataframe thead tr th {\n",
       "        text-align: left;\n",
       "    }\n",
       "\n",
       "    .dataframe thead tr:last-of-type th {\n",
       "        text-align: right;\n",
       "    }\n",
       "</style>\n",
       "<table border=\"1\" class=\"dataframe\">\n",
       "  <thead>\n",
       "    <tr>\n",
       "      <th></th>\n",
       "      <th colspan=\"2\" halign=\"left\">Sex</th>\n",
       "    </tr>\n",
       "    <tr>\n",
       "      <th>Survived</th>\n",
       "      <th>0</th>\n",
       "      <th>1</th>\n",
       "    </tr>\n",
       "    <tr>\n",
       "      <th>Pclass</th>\n",
       "      <th></th>\n",
       "      <th></th>\n",
       "    </tr>\n",
       "  </thead>\n",
       "  <tbody>\n",
       "    <tr>\n",
       "      <th>1</th>\n",
       "      <td>80</td>\n",
       "      <td>136</td>\n",
       "    </tr>\n",
       "    <tr>\n",
       "      <th>2</th>\n",
       "      <td>97</td>\n",
       "      <td>87</td>\n",
       "    </tr>\n",
       "    <tr>\n",
       "      <th>3</th>\n",
       "      <td>372</td>\n",
       "      <td>119</td>\n",
       "    </tr>\n",
       "  </tbody>\n",
       "</table>\n",
       "</div>"
      ],
      "text/plain": [
       "          Sex     \n",
       "Survived    0    1\n",
       "Pclass            \n",
       "1          80  136\n",
       "2          97   87\n",
       "3         372  119"
      ]
     },
     "metadata": {},
     "output_type": "display_data"
    }
   ],
   "source": [
    "display(df.pivot_table(index='Pclass', columns='Survived', aggfunc='count'))"
   ]
  },
  {
   "cell_type": "code",
   "execution_count": 43,
   "id": "66943138",
   "metadata": {
    "scrolled": true
   },
   "outputs": [
    {
     "data": {
      "image/png": "[encoded data removed]",
      "text/plain": [
       "<Figure size 1080x288 with 3 Axes>"
      ]
     },
     "metadata": {
      "needs_background": "light"
     },
     "output_type": "display_data"
    }
   ],
   "source": [
    "# create figure with three slots\n",
    "fig, axes = plt.subplots(nrows=1, ncols=3, figsize=(15, 4))\n",
    "\n",
    "# do the monomer massive from the axis\n",
    "for i, ax in enumerate(axes.flat):\n",
    "    sns.countplot(x=cat_features[i], data=df_train[cat_features].dropna(axis=0), hue=cat_features[i], ax=ax)\n",
    "    \n",
    "fig.suptitle('Графики категориальных признаков', fontsize=23)\n",
    "plt.show()"
   ]
  },
  {
   "cell_type": "code",
   "execution_count": 52,
   "id": "df89e297",
   "metadata": {
    "scrolled": true
   },
   "outputs": [],
   "source": [
    "df = df_train.pivot_table(index='Survived', columns='Pclass', aggfunc='count')"
   ]
  },
  {
   "cell_type": "code",
   "execution_count": 53,
   "id": "ce10e95b",
   "metadata": {},
   "outputs": [
    {
     "data": {
      "text/html": [
       "<div>\n",
       "<style scoped>\n",
       "    .dataframe tbody tr th:only-of-type {\n",
       "        vertical-align: middle;\n",
       "    }\n",
       "\n",
       "    .dataframe tbody tr th {\n",
       "        vertical-align: top;\n",
       "    }\n",
       "\n",
       "    .dataframe thead tr th {\n",
       "        text-align: left;\n",
       "    }\n",
       "\n",
       "    .dataframe thead tr:last-of-type th {\n",
       "        text-align: right;\n",
       "    }\n",
       "</style>\n",
       "<table border=\"1\" class=\"dataframe\">\n",
       "  <thead>\n",
       "    <tr>\n",
       "      <th></th>\n",
       "      <th colspan=\"3\" halign=\"left\">Age</th>\n",
       "      <th colspan=\"3\" halign=\"left\">Cabin</th>\n",
       "      <th colspan=\"3\" halign=\"left\">Embarked</th>\n",
       "      <th>Fare</th>\n",
       "      <th>...</th>\n",
       "      <th>PassengerId</th>\n",
       "      <th colspan=\"3\" halign=\"left\">Sex</th>\n",
       "      <th colspan=\"3\" halign=\"left\">SibSp</th>\n",
       "      <th colspan=\"3\" halign=\"left\">Ticket</th>\n",
       "    </tr>\n",
       "    <tr>\n",
       "      <th>Pclass</th>\n",
       "      <th>1</th>\n",
       "      <th>2</th>\n",
       "      <th>3</th>\n",
       "      <th>1</th>\n",
       "      <th>2</th>\n",
       "      <th>3</th>\n",
       "      <th>1</th>\n",
       "      <th>2</th>\n",
       "      <th>3</th>\n",
       "      <th>1</th>\n",
       "      <th>...</th>\n",
       "      <th>3</th>\n",
       "      <th>1</th>\n",
       "      <th>2</th>\n",
       "      <th>3</th>\n",
       "      <th>1</th>\n",
       "      <th>2</th>\n",
       "      <th>3</th>\n",
       "      <th>1</th>\n",
       "      <th>2</th>\n",
       "      <th>3</th>\n",
       "    </tr>\n",
       "    <tr>\n",
       "      <th>Survived</th>\n",
       "      <th></th>\n",
       "      <th></th>\n",
       "      <th></th>\n",
       "      <th></th>\n",
       "      <th></th>\n",
       "      <th></th>\n",
       "      <th></th>\n",
       "      <th></th>\n",
       "      <th></th>\n",
       "      <th></th>\n",
       "      <th></th>\n",
       "      <th></th>\n",
       "      <th></th>\n",
       "      <th></th>\n",
       "      <th></th>\n",
       "      <th></th>\n",
       "      <th></th>\n",
       "      <th></th>\n",
       "      <th></th>\n",
       "      <th></th>\n",
       "      <th></th>\n",
       "    </tr>\n",
       "  </thead>\n",
       "  <tbody>\n",
       "    <tr>\n",
       "      <th>0</th>\n",
       "      <td>64</td>\n",
       "      <td>90</td>\n",
       "      <td>270</td>\n",
       "      <td>59</td>\n",
       "      <td>3</td>\n",
       "      <td>6</td>\n",
       "      <td>80</td>\n",
       "      <td>97</td>\n",
       "      <td>372</td>\n",
       "      <td>80</td>\n",
       "      <td>...</td>\n",
       "      <td>372</td>\n",
       "      <td>80</td>\n",
       "      <td>97</td>\n",
       "      <td>372</td>\n",
       "      <td>80</td>\n",
       "      <td>97</td>\n",
       "      <td>372</td>\n",
       "      <td>80</td>\n",
       "      <td>97</td>\n",
       "      <td>372</td>\n",
       "    </tr>\n",
       "    <tr>\n",
       "      <th>1</th>\n",
       "      <td>122</td>\n",
       "      <td>83</td>\n",
       "      <td>85</td>\n",
       "      <td>117</td>\n",
       "      <td>13</td>\n",
       "      <td>6</td>\n",
       "      <td>134</td>\n",
       "      <td>87</td>\n",
       "      <td>119</td>\n",
       "      <td>136</td>\n",
       "      <td>...</td>\n",
       "      <td>119</td>\n",
       "      <td>136</td>\n",
       "      <td>87</td>\n",
       "      <td>119</td>\n",
       "      <td>136</td>\n",
       "      <td>87</td>\n",
       "      <td>119</td>\n",
       "      <td>136</td>\n",
       "      <td>87</td>\n",
       "      <td>119</td>\n",
       "    </tr>\n",
       "  </tbody>\n",
       "</table>\n",
       "<p>2 rows × 30 columns</p>\n",
       "</div>"
      ],
      "text/plain": [
       "          Age          Cabin        Embarked          Fare  ... PassengerId  \\\n",
       "Pclass      1   2    3     1   2  3        1   2    3    1  ...           3   \n",
       "Survived                                                    ...               \n",
       "0          64  90  270    59   3  6       80  97  372   80  ...         372   \n",
       "1         122  83   85   117  13  6      134  87  119  136  ...         119   \n",
       "\n",
       "          Sex          SibSp          Ticket           \n",
       "Pclass      1   2    3     1   2    3      1   2    3  \n",
       "Survived                                               \n",
       "0          80  97  372    80  97  372     80  97  372  \n",
       "1         136  87  119   136  87  119    136  87  119  \n",
       "\n",
       "[2 rows x 30 columns]"
      ]
     },
     "metadata": {},
     "output_type": "display_data"
    }
   ],
   "source": [
    "display(df)"
   ]
  },
  {
   "cell_type": "code",
   "execution_count": 31,
   "id": "94580265",
   "metadata": {},
   "outputs": [
    {
     "name": "stdout",
     "output_type": "stream",
     "text": [
      "sex: 0\n",
      "sex: 1\n"
     ]
    },
    {
     "data": {
      "image/png": "[encoded data removed]",
      "text/plain": [
       "<Figure size 432x288 with 1 Axes>"
      ]
     },
     "metadata": {
      "needs_background": "light"
     },
     "output_type": "display_data"
    }
   ],
   "source": [
    "species = ('1', '2', '3')\n",
    "width = 0.5\n",
    "fig, ax = plt.subplots()\n",
    "bottom = np.zeros(3)\n",
    "\n",
    "for sex, sex_count in df.items():\n",
    "    print('sex:',sex)\n",
    "    p = ax.bar(species, sex_count, width, label=sex, bottom=bottom)\n",
    "    bottom += sex_count\n",
    "\n",
    "    ax.bar_label(p, label_type='center')\n",
    "\n",
    "ax.set_title('Number of survived by sex')\n",
    "ax.legend()\n",
    "\n",
    "plt.show()"
   ]
  },
  {
   "cell_type": "code",
   "execution_count": 32,
   "id": "531c6e85",
   "metadata": {},
   "outputs": [],
   "source": [
    "df = df_train.pivot_table(index='Survived', columns='Pclass', aggfunc='count')['Sex']"
   ]
  },
  {
   "cell_type": "code",
   "execution_count": 33,
   "id": "6a573257",
   "metadata": {
    "scrolled": true
   },
   "outputs": [
    {
     "data": {
      "text/html": [
       "<div>\n",
       "<style scoped>\n",
       "    .dataframe tbody tr th:only-of-type {\n",
       "        vertical-align: middle;\n",
       "    }\n",
       "\n",
       "    .dataframe tbody tr th {\n",
       "        vertical-align: top;\n",
       "    }\n",
       "\n",
       "    .dataframe thead th {\n",
       "        text-align: right;\n",
       "    }\n",
       "</style>\n",
       "<table border=\"1\" class=\"dataframe\">\n",
       "  <thead>\n",
       "    <tr style=\"text-align: right;\">\n",
       "      <th>Pclass</th>\n",
       "      <th>1</th>\n",
       "      <th>2</th>\n",
       "      <th>3</th>\n",
       "    </tr>\n",
       "    <tr>\n",
       "      <th>Survived</th>\n",
       "      <th></th>\n",
       "      <th></th>\n",
       "      <th></th>\n",
       "    </tr>\n",
       "  </thead>\n",
       "  <tbody>\n",
       "    <tr>\n",
       "      <th>0</th>\n",
       "      <td>80</td>\n",
       "      <td>97</td>\n",
       "      <td>372</td>\n",
       "    </tr>\n",
       "    <tr>\n",
       "      <th>1</th>\n",
       "      <td>136</td>\n",
       "      <td>87</td>\n",
       "      <td>119</td>\n",
       "    </tr>\n",
       "  </tbody>\n",
       "</table>\n",
       "</div>"
      ],
      "text/plain": [
       "Pclass      1   2    3\n",
       "Survived              \n",
       "0          80  97  372\n",
       "1         136  87  119"
      ]
     },
     "metadata": {},
     "output_type": "display_data"
    }
   ],
   "source": [
    "display(df)"
   ]
  },
  {
   "cell_type": "code",
   "execution_count": 38,
   "id": "8740c620",
   "metadata": {},
   "outputs": [
    {
     "name": "stdout",
     "output_type": "stream",
     "text": [
      "sex: female\n",
      "sex: male\n"
     ]
    },
    {
     "data": {
      "image/png": "[encoded data removed]",
      "text/plain": [
       "<Figure size 432x288 with 1 Axes>"
      ]
     },
     "metadata": {
      "needs_background": "light"
     },
     "output_type": "display_data"
    }
   ],
   "source": [
    "species = ('Ded', 'Sur')\n",
    "width = 0.5\n",
    "fig, ax = plt.subplots()\n",
    "bottom = np.zeros(2)\n",
    "\n",
    "for sex, sex_count in df.items():\n",
    "    print('sex:',sex)\n",
    "    p = ax.bar(species, sex_count, width, label=sex, bottom=bottom)\n",
    "    bottom += sex_count\n",
    "\n",
    "    ax.bar_label(p, label_type='center')\n",
    "\n",
    "ax.set_title('Number of survived by sex')\n",
    "ax.legend()\n",
    "\n",
    "plt.show()"
   ]
  },
  {
   "cell_type": "code",
   "execution_count": 20,
   "id": "b322c092",
   "metadata": {},
   "outputs": [
    {
     "data": {
      "text/html": [
       "<div>\n",
       "<style scoped>\n",
       "    .dataframe tbody tr th:only-of-type {\n",
       "        vertical-align: middle;\n",
       "    }\n",
       "\n",
       "    .dataframe tbody tr th {\n",
       "        vertical-align: top;\n",
       "    }\n",
       "\n",
       "    .dataframe thead th {\n",
       "        text-align: right;\n",
       "    }\n",
       "</style>\n",
       "<table border=\"1\" class=\"dataframe\">\n",
       "  <thead>\n",
       "    <tr style=\"text-align: right;\">\n",
       "      <th></th>\n",
       "      <th>Pclass</th>\n",
       "      <th>Survived</th>\n",
       "    </tr>\n",
       "  </thead>\n",
       "  <tbody>\n",
       "    <tr>\n",
       "      <th>0</th>\n",
       "      <td>3</td>\n",
       "      <td>0</td>\n",
       "    </tr>\n",
       "    <tr>\n",
       "      <th>1</th>\n",
       "      <td>1</td>\n",
       "      <td>1</td>\n",
       "    </tr>\n",
       "    <tr>\n",
       "      <th>2</th>\n",
       "      <td>3</td>\n",
       "      <td>1</td>\n",
       "    </tr>\n",
       "    <tr>\n",
       "      <th>3</th>\n",
       "      <td>1</td>\n",
       "      <td>1</td>\n",
       "    </tr>\n",
       "    <tr>\n",
       "      <th>4</th>\n",
       "      <td>3</td>\n",
       "      <td>0</td>\n",
       "    </tr>\n",
       "  </tbody>\n",
       "</table>\n",
       "</div>"
      ],
      "text/plain": [
       "   Pclass  Survived\n",
       "0       3         0\n",
       "1       1         1\n",
       "2       3         1\n",
       "3       1         1\n",
       "4       3         0"
      ]
     },
     "execution_count": 20,
     "metadata": {},
     "output_type": "execute_result"
    }
   ],
   "source": [
    "df_train[['Pclass', 'Survived']].head()"
   ]
  },
  {
   "cell_type": "markdown",
   "id": "594b823a",
   "metadata": {},
   "source": [
    "#### Sex"
   ]
  },
  {
   "cell_type": "code",
   "execution_count": 35,
   "id": "7001a229",
   "metadata": {},
   "outputs": [
    {
     "data": {
      "text/html": [
       "<div>\n",
       "<style scoped>\n",
       "    .dataframe tbody tr th:only-of-type {\n",
       "        vertical-align: middle;\n",
       "    }\n",
       "\n",
       "    .dataframe tbody tr th {\n",
       "        vertical-align: top;\n",
       "    }\n",
       "\n",
       "    .dataframe thead th {\n",
       "        text-align: right;\n",
       "    }\n",
       "</style>\n",
       "<table border=\"1\" class=\"dataframe\">\n",
       "  <thead>\n",
       "    <tr style=\"text-align: right;\">\n",
       "      <th>Sex</th>\n",
       "      <th>female</th>\n",
       "      <th>male</th>\n",
       "    </tr>\n",
       "    <tr>\n",
       "      <th>Survived</th>\n",
       "      <th></th>\n",
       "      <th></th>\n",
       "    </tr>\n",
       "  </thead>\n",
       "  <tbody>\n",
       "    <tr>\n",
       "      <th>0</th>\n",
       "      <td>81</td>\n",
       "      <td>468</td>\n",
       "    </tr>\n",
       "    <tr>\n",
       "      <th>1</th>\n",
       "      <td>233</td>\n",
       "      <td>109</td>\n",
       "    </tr>\n",
       "  </tbody>\n",
       "</table>\n",
       "</div>"
      ],
      "text/plain": [
       "Sex       female  male\n",
       "Survived              \n",
       "0             81   468\n",
       "1            233   109"
      ]
     },
     "execution_count": 35,
     "metadata": {},
     "output_type": "execute_result"
    }
   ],
   "source": [
    "df = df_train.pivot_table(index='Survived', columns='Sex', values='PassengerId', aggfunc='count')\n",
    "df.head()"
   ]
  },
  {
   "cell_type": "code",
   "execution_count": 36,
   "id": "790f5a4b",
   "metadata": {},
   "outputs": [
    {
     "name": "stdout",
     "output_type": "stream",
     "text": [
      "sex: female\n",
      "sex: male\n"
     ]
    },
    {
     "data": {
      "image/png": "[encoded data removed]",
      "text/plain": [
       "<Figure size 432x288 with 1 Axes>"
      ]
     },
     "metadata": {
      "needs_background": "light"
     },
     "output_type": "display_data"
    }
   ],
   "source": [
    "species = ('Dead', 'Survived')\n",
    "width = 0.5\n",
    "fig, ax = plt.subplots()\n",
    "bottom = np.zeros(2)\n",
    "\n",
    "for sex, sex_count in df.items():\n",
    "    print('sex:',sex)\n",
    "    p = ax.bar(species, sex_count, width, label=sex, bottom=bottom)\n",
    "    bottom += sex_count\n",
    "\n",
    "    ax.bar_label(p, label_type='center')\n",
    "\n",
    "ax.set_title('Number of survived by sex')\n",
    "ax.legend()\n",
    "\n",
    "plt.show()"
   ]
  },
  {
   "cell_type": "markdown",
   "id": "e52245dc",
   "metadata": {},
   "source": [
    "### Numerical features"
   ]
  },
  {
   "cell_type": "markdown",
   "id": "15e95198",
   "metadata": {},
   "source": []
  },
  {
   "cell_type": "code",
   "execution_count": null,
   "id": "2a15fbba",
   "metadata": {
    "scrolled": true
   },
   "outputs": [],
   "source": [
    "display(df_train.describe())"
   ]
  },
  {
   "cell_type": "markdown",
   "id": "8f95a61b",
   "metadata": {},
   "source": [
    "### Age"
   ]
  },
  {
   "cell_type": "code",
   "execution_count": null,
   "id": "d4f3a390",
   "metadata": {},
   "outputs": [],
   "source": [
    "df_train['Age'].hist()\n",
    "plt.show()"
   ]
  },
  {
   "cell_type": "code",
   "execution_count": null,
   "id": "d4832789",
   "metadata": {},
   "outputs": [],
   "source": [
    "df_train['Ticket'].duplicated().sum()"
   ]
  },
  {
   "cell_type": "code",
   "execution_count": null,
   "id": "d000d0c9",
   "metadata": {},
   "outputs": [],
   "source": [
    "df_train.pivot_table(index='Ticket', aggfunc='count').head()"
   ]
  },
  {
   "cell_type": "code",
   "execution_count": null,
   "id": "19a845fd",
   "metadata": {},
   "outputs": [],
   "source": []
  },
  {
   "cell_type": "code",
   "execution_count": null,
   "id": "bf9f6377",
   "metadata": {
    "scrolled": true
   },
   "outputs": [],
   "source": [
    "\n",
    "i, ax = plt.subplots(figsize=(8,6))\n",
    "print(ax, i)\n",
    "class_frequency = df_train['Survived'].value_counts(normalize=True)\n",
    "print(class_frequency.index)\n",
    "ax.bar(class_frequency.index, class_frequency.values, align='edge')\n",
    "# ax.bar(df_train['Survived'], bins=2)\n",
    "plt.show()"
   ]
  },
  {
   "cell_type": "code",
   "execution_count": null,
   "id": "e10e1076",
   "metadata": {},
   "outputs": [],
   "source": [
    "fig, ax = plt.subplots()\n",
    "species = ('Dead', 'Survived')\n",
    "\n",
    "width = 0.5\n",
    "df = df_train.pivot_table(index='Survived', aggfunc='count')['Name']\n",
    "print(df)\n",
    "ax.bar(species, df, width)\n",
    "plt.show()"
   ]
  }
 ],
 "metadata": {
  "kernelspec": {
   "display_name": "Python 3 (ipykernel)",
   "language": "python",
   "name": "python3"
  },
  "language_info": {
   "codemirror_mode": {
    "name": "ipython",
    "version": 3
   },
   "file_extension": ".py",
   "mimetype": "text/x-python",
   "name": "python",
   "nbconvert_exporter": "python",
   "pygments_lexer": "ipython3",
   "version": "3.9.7"
  }
 },
 "nbformat": 4,
 "nbformat_minor": 5
}
